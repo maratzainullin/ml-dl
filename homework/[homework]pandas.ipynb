{
 "cells": [
  {
   "cell_type": "markdown",
   "metadata": {
    "id": "ka8EsSp8YNED"
   },
   "source": [
    "<h1 style=\"text-align: center;\"><b>Школа глубокого обучения ФПМИ МФТИ</b></h1>\n",
    "<h1 style=\"text-align: center;\"><b>Домашнее задание. Библиотека <a href=\"http://pandas.pydata.org/\">pandas</a></b></h1>"
   ]
  },
  {
   "cell_type": "markdown",
   "metadata": {
    "id": "itKnSrTFYNEx"
   },
   "source": [
    "## Полезное:\n",
    "* Официальные туториалы: http://pandas.pydata.org/pandas-docs/stable/tutorials.html\n",
    "* Статья от [OpenDataScience сообщества](http://ods.ai/)**:** https://habr.com/company/ods/blog/322626/\n",
    "* Подробный гайд: https://media.readthedocs.org/pdf/pandasguide/latest/pandasguide.pdf\n",
    "* docstring (`Shift+Tab` внутри скобок функции)"
   ]
  },
  {
   "cell_type": "markdown",
   "metadata": {
    "id": "Tvo9H9BpYNEN"
   },
   "source": [
    "## Данные ([ссылка](https://www.kaggle.com/sdolezel/black-friday))"
   ]
  },
  {
   "cell_type": "code",
   "execution_count": 301,
   "metadata": {
    "id": "fNjo9Tk7YNEI"
   },
   "outputs": [],
   "source": [
    "import pandas as pd\n",
    "import numpy as np\n",
    "import IPython.display as ds\n",
    "import builtins\n",
    "def print(*args, sep='\\n' + '-'*80 + '\\n', end='\\n' + '='*80 + '\\n'):\n",
    "    builtins.print(*args, sep=sep, end=end)"
   ]
  },
  {
   "cell_type": "code",
   "execution_count": 313,
   "metadata": {
    "colab": {
     "base_uri": "https://localhost:8080/",
     "height": 419
    },
    "collapsed": true,
    "executionInfo": {
     "elapsed": 485,
     "status": "ok",
     "timestamp": 1633021753185,
     "user": {
      "displayName": "Yury Yarovikov",
      "photoUrl": "https://lh3.googleusercontent.com/a-/AOh14Gip8__BUAkkFW7zB1tjXwB7Y8uEezomM5ErVG2V=s64",
      "userId": "05223355485824927663"
     },
     "user_tz": -180
    },
    "id": "45ckp1neYNEO",
    "outputId": "720c4313-246c-4efb-9efb-8e7a92798eec"
   },
   "outputs": [
    {
     "data": {
      "text/html": [
       "<table border=\"1\" class=\"dataframe\">\n",
       "  <thead>\n",
       "    <tr style=\"text-align: right;\">\n",
       "      <th></th>\n",
       "      <th>User_ID</th>\n",
       "      <th>Product_ID</th>\n",
       "      <th>Gender</th>\n",
       "      <th>Age</th>\n",
       "      <th>Occupation</th>\n",
       "      <th>City_Category</th>\n",
       "      <th>Stay_In_Current_City_Years</th>\n",
       "      <th>Marital_Status</th>\n",
       "      <th>Product_Category_1</th>\n",
       "      <th>Product_Category_2</th>\n",
       "      <th>Product_Category_3</th>\n",
       "      <th>Purchase</th>\n",
       "    </tr>\n",
       "  </thead>\n",
       "  <tbody>\n",
       "    <tr>\n",
       "      <th>0</th>\n",
       "      <td>1000001</td>\n",
       "      <td>P00069042</td>\n",
       "      <td>F</td>\n",
       "      <td>0-17</td>\n",
       "      <td>10</td>\n",
       "      <td>A</td>\n",
       "      <td>2</td>\n",
       "      <td>0</td>\n",
       "      <td>3</td>\n",
       "      <td>NaN</td>\n",
       "      <td>NaN</td>\n",
       "      <td>8370</td>\n",
       "    </tr>\n",
       "    <tr>\n",
       "      <th>1</th>\n",
       "      <td>1000001</td>\n",
       "      <td>P00248942</td>\n",
       "      <td>F</td>\n",
       "      <td>0-17</td>\n",
       "      <td>10</td>\n",
       "      <td>A</td>\n",
       "      <td>2</td>\n",
       "      <td>0</td>\n",
       "      <td>1</td>\n",
       "      <td>6.0</td>\n",
       "      <td>14.0</td>\n",
       "      <td>15200</td>\n",
       "    </tr>\n",
       "    <tr>\n",
       "      <th>2</th>\n",
       "      <td>1000001</td>\n",
       "      <td>P00087842</td>\n",
       "      <td>F</td>\n",
       "      <td>0-17</td>\n",
       "      <td>10</td>\n",
       "      <td>A</td>\n",
       "      <td>2</td>\n",
       "      <td>0</td>\n",
       "      <td>12</td>\n",
       "      <td>NaN</td>\n",
       "      <td>NaN</td>\n",
       "      <td>1422</td>\n",
       "    </tr>\n",
       "    <tr>\n",
       "      <th>3</th>\n",
       "      <td>1000001</td>\n",
       "      <td>P00085442</td>\n",
       "      <td>F</td>\n",
       "      <td>0-17</td>\n",
       "      <td>10</td>\n",
       "      <td>A</td>\n",
       "      <td>2</td>\n",
       "      <td>0</td>\n",
       "      <td>12</td>\n",
       "      <td>14.0</td>\n",
       "      <td>NaN</td>\n",
       "      <td>1057</td>\n",
       "    </tr>\n",
       "    <tr>\n",
       "      <th>4</th>\n",
       "      <td>1000002</td>\n",
       "      <td>P00285442</td>\n",
       "      <td>M</td>\n",
       "      <td>55+</td>\n",
       "      <td>16</td>\n",
       "      <td>C</td>\n",
       "      <td>4+</td>\n",
       "      <td>0</td>\n",
       "      <td>8</td>\n",
       "      <td>NaN</td>\n",
       "      <td>NaN</td>\n",
       "      <td>7969</td>\n",
       "    </tr>\n",
       "  </tbody>\n",
       "</table>"
      ],
      "text/plain": [
       "<IPython.core.display.HTML object>"
      ]
     },
     "metadata": {},
     "output_type": "display_data"
    },
    {
     "data": {
      "text/html": [
       "<table border=\"1\" class=\"dataframe\">\n",
       "  <thead>\n",
       "    <tr style=\"text-align: right;\">\n",
       "      <th></th>\n",
       "      <th>User_ID</th>\n",
       "      <th>Occupation</th>\n",
       "      <th>Marital_Status</th>\n",
       "      <th>Product_Category_1</th>\n",
       "      <th>Product_Category_2</th>\n",
       "      <th>Product_Category_3</th>\n",
       "      <th>Purchase</th>\n",
       "    </tr>\n",
       "  </thead>\n",
       "  <tbody>\n",
       "    <tr>\n",
       "      <th>count</th>\n",
       "      <td>5.375770e+05</td>\n",
       "      <td>537577.00000</td>\n",
       "      <td>537577.000000</td>\n",
       "      <td>537577.000000</td>\n",
       "      <td>370591.000000</td>\n",
       "      <td>164278.000000</td>\n",
       "      <td>537577.000000</td>\n",
       "    </tr>\n",
       "    <tr>\n",
       "      <th>mean</th>\n",
       "      <td>1.002992e+06</td>\n",
       "      <td>8.08271</td>\n",
       "      <td>0.408797</td>\n",
       "      <td>5.295546</td>\n",
       "      <td>9.842144</td>\n",
       "      <td>12.669840</td>\n",
       "      <td>9333.859853</td>\n",
       "    </tr>\n",
       "    <tr>\n",
       "      <th>std</th>\n",
       "      <td>1.714393e+03</td>\n",
       "      <td>6.52412</td>\n",
       "      <td>0.491612</td>\n",
       "      <td>3.750701</td>\n",
       "      <td>5.087259</td>\n",
       "      <td>4.124341</td>\n",
       "      <td>4981.022133</td>\n",
       "    </tr>\n",
       "    <tr>\n",
       "      <th>min</th>\n",
       "      <td>1.000001e+06</td>\n",
       "      <td>0.00000</td>\n",
       "      <td>0.000000</td>\n",
       "      <td>1.000000</td>\n",
       "      <td>2.000000</td>\n",
       "      <td>3.000000</td>\n",
       "      <td>185.000000</td>\n",
       "    </tr>\n",
       "    <tr>\n",
       "      <th>25%</th>\n",
       "      <td>1.001495e+06</td>\n",
       "      <td>2.00000</td>\n",
       "      <td>0.000000</td>\n",
       "      <td>1.000000</td>\n",
       "      <td>5.000000</td>\n",
       "      <td>9.000000</td>\n",
       "      <td>5866.000000</td>\n",
       "    </tr>\n",
       "    <tr>\n",
       "      <th>50%</th>\n",
       "      <td>1.003031e+06</td>\n",
       "      <td>7.00000</td>\n",
       "      <td>0.000000</td>\n",
       "      <td>5.000000</td>\n",
       "      <td>9.000000</td>\n",
       "      <td>14.000000</td>\n",
       "      <td>8062.000000</td>\n",
       "    </tr>\n",
       "    <tr>\n",
       "      <th>75%</th>\n",
       "      <td>1.004417e+06</td>\n",
       "      <td>14.00000</td>\n",
       "      <td>1.000000</td>\n",
       "      <td>8.000000</td>\n",
       "      <td>15.000000</td>\n",
       "      <td>16.000000</td>\n",
       "      <td>12073.000000</td>\n",
       "    </tr>\n",
       "    <tr>\n",
       "      <th>max</th>\n",
       "      <td>1.006040e+06</td>\n",
       "      <td>20.00000</td>\n",
       "      <td>1.000000</td>\n",
       "      <td>18.000000</td>\n",
       "      <td>18.000000</td>\n",
       "      <td>18.000000</td>\n",
       "      <td>23961.000000</td>\n",
       "    </tr>\n",
       "  </tbody>\n",
       "</table>"
      ],
      "text/plain": [
       "<IPython.core.display.HTML object>"
      ]
     },
     "metadata": {},
     "output_type": "display_data"
    },
    {
     "name": "stdout",
     "output_type": "stream",
     "text": [
      "<class 'pandas.core.frame.DataFrame'>\n",
      "RangeIndex: 537577 entries, 0 to 537576\n",
      "Data columns (total 12 columns):\n",
      "User_ID                       537577 non-null int64\n",
      "Product_ID                    537577 non-null object\n",
      "Gender                        537577 non-null object\n",
      "Age                           537577 non-null object\n",
      "Occupation                    537577 non-null int64\n",
      "City_Category                 537577 non-null object\n",
      "Stay_In_Current_City_Years    537577 non-null object\n",
      "Marital_Status                537577 non-null int64\n",
      "Product_Category_1            537577 non-null int64\n",
      "Product_Category_2            370591 non-null float64\n",
      "Product_Category_3            164278 non-null float64\n",
      "Purchase                      537577 non-null int64\n",
      "dtypes: float64(2), int64(5), object(5)\n",
      "memory usage: 49.2+ MB\n",
      "None\n",
      "================================================================================\n"
     ]
    }
   ],
   "source": [
    "data = pd.read_csv('BlackFriday.csv')\n",
    "ds.display(ds.HTML(data.head(5).to_html()))\n",
    "ds.display(ds.HTML(data.describe().to_html()))\n",
    "print(data.info())"
   ]
  },
  {
   "cell_type": "markdown",
   "metadata": {
    "id": "3q3tNGOrYNEa"
   },
   "source": [
    "## Задачи"
   ]
  },
  {
   "cell_type": "markdown",
   "metadata": {
    "id": "WXRRMZe7YNEb"
   },
   "source": [
    "### 1. Сколько всего возрастных категорий?"
   ]
  },
  {
   "cell_type": "code",
   "execution_count": 125,
   "metadata": {
    "collapsed": true,
    "id": "bj7ljslWYNEd"
   },
   "outputs": [
    {
     "name": "stdout",
     "output_type": "stream",
     "text": [
      "7\n",
      "================================================================================\n",
      "Wall time: 7 ms\n",
      "7\n",
      "================================================================================\n",
      "Wall time: 25 ms\n",
      "26-35    214690\n",
      "36-45    107499\n",
      "18-25     97634\n",
      "46-50     44526\n",
      "51-55     37618\n",
      "55+       20903\n",
      "0-17      14707\n",
      "Name: Age, dtype: int64\n",
      "================================================================================\n",
      "Wall time: 72.8 ms\n"
     ]
    }
   ],
   "source": [
    "%time print(data['Age'].nunique())\n",
    "%time print(data['Age'].unique().size)\n",
    "%time print(data['Age'].value_counts())"
   ]
  },
  {
   "cell_type": "markdown",
   "metadata": {
    "id": "H4UpHEFbYNEf"
   },
   "source": [
    "### 2. Сколько строк с мужчинами из категории города A? (речь не об уникальных ID мужчин, а о количестве строк)  "
   ]
  },
  {
   "cell_type": "code",
   "execution_count": 95,
   "metadata": {
    "collapsed": true
   },
   "outputs": [
    {
     "data": {
      "text/html": [
       "<div>\n",
       "<style scoped>\n",
       "    .dataframe tbody tr th:only-of-type {\n",
       "        vertical-align: middle;\n",
       "    }\n",
       "\n",
       "    .dataframe tbody tr th {\n",
       "        vertical-align: top;\n",
       "    }\n",
       "\n",
       "    .dataframe thead th {\n",
       "        text-align: right;\n",
       "    }\n",
       "</style>\n",
       "<table border=\"1\" class=\"dataframe\">\n",
       "  <thead>\n",
       "    <tr style=\"text-align: right;\">\n",
       "      <th></th>\n",
       "      <th>User_ID</th>\n",
       "      <th>Occupation</th>\n",
       "      <th>Marital_Status</th>\n",
       "      <th>Product_Category_1</th>\n",
       "      <th>Product_Category_2</th>\n",
       "      <th>Product_Category_3</th>\n",
       "      <th>Purchase</th>\n",
       "    </tr>\n",
       "  </thead>\n",
       "  <tbody>\n",
       "    <tr>\n",
       "      <th>count</th>\n",
       "      <td>1.098310e+05</td>\n",
       "      <td>109831.000000</td>\n",
       "      <td>109831.000000</td>\n",
       "      <td>109831.000000</td>\n",
       "      <td>73729.000000</td>\n",
       "      <td>31850.000000</td>\n",
       "      <td>109831.000000</td>\n",
       "    </tr>\n",
       "    <tr>\n",
       "      <th>mean</th>\n",
       "      <td>1.002861e+06</td>\n",
       "      <td>8.461127</td>\n",
       "      <td>0.380075</td>\n",
       "      <td>5.360299</td>\n",
       "      <td>9.887222</td>\n",
       "      <td>12.725118</td>\n",
       "      <td>9061.717739</td>\n",
       "    </tr>\n",
       "    <tr>\n",
       "      <th>std</th>\n",
       "      <td>1.763074e+03</td>\n",
       "      <td>6.799316</td>\n",
       "      <td>0.485407</td>\n",
       "      <td>3.816885</td>\n",
       "      <td>5.087861</td>\n",
       "      <td>4.101281</td>\n",
       "      <td>4931.360715</td>\n",
       "    </tr>\n",
       "    <tr>\n",
       "      <th>min</th>\n",
       "      <td>1.000003e+06</td>\n",
       "      <td>0.000000</td>\n",
       "      <td>0.000000</td>\n",
       "      <td>1.000000</td>\n",
       "      <td>2.000000</td>\n",
       "      <td>3.000000</td>\n",
       "      <td>185.000000</td>\n",
       "    </tr>\n",
       "    <tr>\n",
       "      <th>25%</th>\n",
       "      <td>1.001244e+06</td>\n",
       "      <td>3.000000</td>\n",
       "      <td>0.000000</td>\n",
       "      <td>1.000000</td>\n",
       "      <td>5.000000</td>\n",
       "      <td>9.000000</td>\n",
       "      <td>5415.000000</td>\n",
       "    </tr>\n",
       "    <tr>\n",
       "      <th>50%</th>\n",
       "      <td>1.002946e+06</td>\n",
       "      <td>7.000000</td>\n",
       "      <td>0.000000</td>\n",
       "      <td>5.000000</td>\n",
       "      <td>9.000000</td>\n",
       "      <td>15.000000</td>\n",
       "      <td>7972.000000</td>\n",
       "    </tr>\n",
       "    <tr>\n",
       "      <th>75%</th>\n",
       "      <td>1.004344e+06</td>\n",
       "      <td>15.000000</td>\n",
       "      <td>1.000000</td>\n",
       "      <td>8.000000</td>\n",
       "      <td>15.000000</td>\n",
       "      <td>16.000000</td>\n",
       "      <td>11921.000000</td>\n",
       "    </tr>\n",
       "    <tr>\n",
       "      <th>max</th>\n",
       "      <td>1.006034e+06</td>\n",
       "      <td>20.000000</td>\n",
       "      <td>1.000000</td>\n",
       "      <td>18.000000</td>\n",
       "      <td>18.000000</td>\n",
       "      <td>18.000000</td>\n",
       "      <td>23961.000000</td>\n",
       "    </tr>\n",
       "  </tbody>\n",
       "</table>\n",
       "</div>"
      ],
      "text/plain": [
       "            User_ID     Occupation  Marital_Status  Product_Category_1  \\\n",
       "count  1.098310e+05  109831.000000   109831.000000       109831.000000   \n",
       "mean   1.002861e+06       8.461127        0.380075            5.360299   \n",
       "std    1.763074e+03       6.799316        0.485407            3.816885   \n",
       "min    1.000003e+06       0.000000        0.000000            1.000000   \n",
       "25%    1.001244e+06       3.000000        0.000000            1.000000   \n",
       "50%    1.002946e+06       7.000000        0.000000            5.000000   \n",
       "75%    1.004344e+06      15.000000        1.000000            8.000000   \n",
       "max    1.006034e+06      20.000000        1.000000           18.000000   \n",
       "\n",
       "       Product_Category_2  Product_Category_3       Purchase  \n",
       "count        73729.000000        31850.000000  109831.000000  \n",
       "mean             9.887222           12.725118    9061.717739  \n",
       "std              5.087861            4.101281    4931.360715  \n",
       "min              2.000000            3.000000     185.000000  \n",
       "25%              5.000000            9.000000    5415.000000  \n",
       "50%              9.000000           15.000000    7972.000000  \n",
       "75%             15.000000           16.000000   11921.000000  \n",
       "max             18.000000           18.000000   23961.000000  "
      ]
     },
     "execution_count": 95,
     "metadata": {},
     "output_type": "execute_result"
    }
   ],
   "source": [
    "data[(data['Gender'] == 'M') & (data['City_Category'] == 'A')].describe()"
   ]
  },
  {
   "cell_type": "code",
   "execution_count": 126,
   "metadata": {
    "collapsed": true
   },
   "outputs": [
    {
     "data": {
      "text/html": [
       "<div>\n",
       "<style scoped>\n",
       "    .dataframe tbody tr th:only-of-type {\n",
       "        vertical-align: middle;\n",
       "    }\n",
       "\n",
       "    .dataframe tbody tr th {\n",
       "        vertical-align: top;\n",
       "    }\n",
       "\n",
       "    .dataframe thead tr th {\n",
       "        text-align: left;\n",
       "    }\n",
       "\n",
       "    .dataframe thead tr:last-of-type th {\n",
       "        text-align: right;\n",
       "    }\n",
       "</style>\n",
       "<table border=\"1\" class=\"dataframe\">\n",
       "  <thead>\n",
       "    <tr>\n",
       "      <th></th>\n",
       "      <th colspan=\"8\" halign=\"left\">User_ID</th>\n",
       "      <th colspan=\"2\" halign=\"left\">Occupation</th>\n",
       "      <th>...</th>\n",
       "      <th colspan=\"2\" halign=\"left\">Product_Category_3</th>\n",
       "      <th colspan=\"8\" halign=\"left\">Purchase</th>\n",
       "    </tr>\n",
       "    <tr>\n",
       "      <th></th>\n",
       "      <th>count</th>\n",
       "      <th>mean</th>\n",
       "      <th>std</th>\n",
       "      <th>min</th>\n",
       "      <th>25%</th>\n",
       "      <th>50%</th>\n",
       "      <th>75%</th>\n",
       "      <th>max</th>\n",
       "      <th>count</th>\n",
       "      <th>mean</th>\n",
       "      <th>...</th>\n",
       "      <th>75%</th>\n",
       "      <th>max</th>\n",
       "      <th>count</th>\n",
       "      <th>mean</th>\n",
       "      <th>std</th>\n",
       "      <th>min</th>\n",
       "      <th>25%</th>\n",
       "      <th>50%</th>\n",
       "      <th>75%</th>\n",
       "      <th>max</th>\n",
       "    </tr>\n",
       "    <tr>\n",
       "      <th>City_Category</th>\n",
       "      <th></th>\n",
       "      <th></th>\n",
       "      <th></th>\n",
       "      <th></th>\n",
       "      <th></th>\n",
       "      <th></th>\n",
       "      <th></th>\n",
       "      <th></th>\n",
       "      <th></th>\n",
       "      <th></th>\n",
       "      <th></th>\n",
       "      <th></th>\n",
       "      <th></th>\n",
       "      <th></th>\n",
       "      <th></th>\n",
       "      <th></th>\n",
       "      <th></th>\n",
       "      <th></th>\n",
       "      <th></th>\n",
       "      <th></th>\n",
       "      <th></th>\n",
       "    </tr>\n",
       "  </thead>\n",
       "  <tbody>\n",
       "    <tr>\n",
       "      <th>A</th>\n",
       "      <td>109831.0</td>\n",
       "      <td>1.002861e+06</td>\n",
       "      <td>1763.073907</td>\n",
       "      <td>1000003.0</td>\n",
       "      <td>1001244.0</td>\n",
       "      <td>1002946.0</td>\n",
       "      <td>1004344.0</td>\n",
       "      <td>1006034.0</td>\n",
       "      <td>109831.0</td>\n",
       "      <td>8.461127</td>\n",
       "      <td>...</td>\n",
       "      <td>16.0</td>\n",
       "      <td>18.0</td>\n",
       "      <td>109831.0</td>\n",
       "      <td>9061.717739</td>\n",
       "      <td>4931.360715</td>\n",
       "      <td>185.0</td>\n",
       "      <td>5415.0</td>\n",
       "      <td>7972.0</td>\n",
       "      <td>11921.0</td>\n",
       "      <td>23961.0</td>\n",
       "    </tr>\n",
       "    <tr>\n",
       "      <th>B</th>\n",
       "      <td>169999.0</td>\n",
       "      <td>1.003006e+06</td>\n",
       "      <td>1660.288252</td>\n",
       "      <td>1000004.0</td>\n",
       "      <td>1001639.0</td>\n",
       "      <td>1003054.0</td>\n",
       "      <td>1004354.0</td>\n",
       "      <td>1006040.0</td>\n",
       "      <td>169999.0</td>\n",
       "      <td>8.319714</td>\n",
       "      <td>...</td>\n",
       "      <td>16.0</td>\n",
       "      <td>18.0</td>\n",
       "      <td>169999.0</td>\n",
       "      <td>9400.754481</td>\n",
       "      <td>4999.872424</td>\n",
       "      <td>185.0</td>\n",
       "      <td>5853.0</td>\n",
       "      <td>8074.0</td>\n",
       "      <td>12202.5</td>\n",
       "      <td>23960.0</td>\n",
       "    </tr>\n",
       "    <tr>\n",
       "      <th>C</th>\n",
       "      <td>125550.0</td>\n",
       "      <td>1.002987e+06</td>\n",
       "      <td>1671.403602</td>\n",
       "      <td>1000002.0</td>\n",
       "      <td>1001564.0</td>\n",
       "      <td>1003058.0</td>\n",
       "      <td>1004343.0</td>\n",
       "      <td>1006030.0</td>\n",
       "      <td>125550.0</td>\n",
       "      <td>8.841744</td>\n",
       "      <td>...</td>\n",
       "      <td>16.0</td>\n",
       "      <td>18.0</td>\n",
       "      <td>125550.0</td>\n",
       "      <td>10033.197730</td>\n",
       "      <td>5175.889378</td>\n",
       "      <td>186.0</td>\n",
       "      <td>6132.0</td>\n",
       "      <td>8689.0</td>\n",
       "      <td>15181.0</td>\n",
       "      <td>23961.0</td>\n",
       "    </tr>\n",
       "  </tbody>\n",
       "</table>\n",
       "<p>3 rows × 56 columns</p>\n",
       "</div>"
      ],
      "text/plain": [
       "                User_ID                                                   \\\n",
       "                  count          mean          std        min        25%   \n",
       "City_Category                                                              \n",
       "A              109831.0  1.002861e+06  1763.073907  1000003.0  1001244.0   \n",
       "B              169999.0  1.003006e+06  1660.288252  1000004.0  1001639.0   \n",
       "C              125550.0  1.002987e+06  1671.403602  1000002.0  1001564.0   \n",
       "\n",
       "                                               Occupation            ...  \\\n",
       "                     50%        75%        max      count      mean  ...   \n",
       "City_Category                                                        ...   \n",
       "A              1002946.0  1004344.0  1006034.0   109831.0  8.461127  ...   \n",
       "B              1003054.0  1004354.0  1006040.0   169999.0  8.319714  ...   \n",
       "C              1003058.0  1004343.0  1006030.0   125550.0  8.841744  ...   \n",
       "\n",
       "              Product_Category_3        Purchase                             \\\n",
       "                             75%   max     count          mean          std   \n",
       "City_Category                                                                 \n",
       "A                           16.0  18.0  109831.0   9061.717739  4931.360715   \n",
       "B                           16.0  18.0  169999.0   9400.754481  4999.872424   \n",
       "C                           16.0  18.0  125550.0  10033.197730  5175.889378   \n",
       "\n",
       "                                                        \n",
       "                 min     25%     50%      75%      max  \n",
       "City_Category                                           \n",
       "A              185.0  5415.0  7972.0  11921.0  23961.0  \n",
       "B              185.0  5853.0  8074.0  12202.5  23960.0  \n",
       "C              186.0  6132.0  8689.0  15181.0  23961.0  \n",
       "\n",
       "[3 rows x 56 columns]"
      ]
     },
     "execution_count": 126,
     "metadata": {},
     "output_type": "execute_result"
    }
   ],
   "source": [
    "data[data['Gender'] == 'M'].groupby('City_Category').describe()"
   ]
  },
  {
   "cell_type": "markdown",
   "metadata": {},
   "source": [
    "`data.query(<condition>)`  ___и___ `data[data[...] cond 1 ... ]` ___эквивалентны, но запрос___ `data.query` ___работает быстрее___\n",
    "\n",
    "    \n",
    "    \n"
   ]
  },
  {
   "cell_type": "code",
   "execution_count": 163,
   "metadata": {
    "collapsed": true,
    "id": "QvbBZrkpYNEg"
   },
   "outputs": [
    {
     "name": "stdout",
     "output_type": "stream",
     "text": [
      "109831.0\n",
      "================================================================================\n",
      "Wall time: 174 ms\n",
      "(109831, 12)\n",
      "================================================================================\n",
      "Wall time: 78 ms\n",
      "(109831, 12)\n",
      "================================================================================\n",
      "Wall time: 46.8 ms\n",
      "B    169999\n",
      "C    125550\n",
      "A    109831\n",
      "Name: City_Category, dtype: int64\n",
      "================================================================================\n",
      "Wall time: 125 ms\n",
      "109831\n",
      "================================================================================\n",
      "Wall time: 117 ms\n",
      "Gender  City_Category\n",
      "F       B                 56494\n",
      "        C                 40896\n",
      "        A                 34807\n",
      "M       B                169999\n",
      "        C                125550\n",
      "        A                109831\n",
      "Name: City_Category, dtype: int64\n",
      "================================================================================\n",
      "Wall time: 140 ms\n"
     ]
    }
   ],
   "source": [
    "%time print(data[(data['Gender'] == 'M') & (data['City_Category'] == 'A')].describe()['User_ID']['count'])\n",
    "%time print(data[(data['Gender'] == 'M') & (data['City_Category'] == 'A')].shape)\n",
    "%time print(data.query('Gender == \"M\" & City_Category == \"A\"').shape)\n",
    "%time print(data[data['Gender'] == 'M']['City_Category'].value_counts())\n",
    "%time print(data[data['Gender'] == 'M']['City_Category'].value_counts()['A'])\n",
    "%time print(data.groupby(['Gender'])['City_Category'].value_counts())"
   ]
  },
  {
   "cell_type": "markdown",
   "metadata": {
    "id": "PDC06O38YNEi"
   },
   "source": [
    "### 3. Сколько женщин от 46 до 50, потративших (столбец Purchase) больше 20000 (условных единиц, в данном случае)?   (речь не об уникальных ID, а о количестве строк)  "
   ]
  },
  {
   "cell_type": "code",
   "execution_count": 139,
   "metadata": {
    "collapsed": true
   },
   "outputs": [
    {
     "data": {
      "text/html": [
       "<div>\n",
       "<style scoped>\n",
       "    .dataframe tbody tr th:only-of-type {\n",
       "        vertical-align: middle;\n",
       "    }\n",
       "\n",
       "    .dataframe tbody tr th {\n",
       "        vertical-align: top;\n",
       "    }\n",
       "\n",
       "    .dataframe thead th {\n",
       "        text-align: right;\n",
       "    }\n",
       "</style>\n",
       "<table border=\"1\" class=\"dataframe\">\n",
       "  <thead>\n",
       "    <tr style=\"text-align: right;\">\n",
       "      <th></th>\n",
       "      <th>User_ID</th>\n",
       "      <th>Occupation</th>\n",
       "      <th>Marital_Status</th>\n",
       "      <th>Product_Category_1</th>\n",
       "      <th>Product_Category_2</th>\n",
       "      <th>Product_Category_3</th>\n",
       "      <th>Purchase</th>\n",
       "    </tr>\n",
       "  </thead>\n",
       "  <tbody>\n",
       "    <tr>\n",
       "      <th>count</th>\n",
       "      <td>1.222300e+04</td>\n",
       "      <td>12223.000000</td>\n",
       "      <td>12223.000000</td>\n",
       "      <td>12223.000000</td>\n",
       "      <td>8278.000000</td>\n",
       "      <td>3495.000000</td>\n",
       "      <td>12223.000000</td>\n",
       "    </tr>\n",
       "    <tr>\n",
       "      <th>mean</th>\n",
       "      <td>1.003219e+06</td>\n",
       "      <td>6.246748</td>\n",
       "      <td>0.760615</td>\n",
       "      <td>5.563446</td>\n",
       "      <td>10.149915</td>\n",
       "      <td>12.817167</td>\n",
       "      <td>9320.128855</td>\n",
       "    </tr>\n",
       "    <tr>\n",
       "      <th>std</th>\n",
       "      <td>1.777748e+03</td>\n",
       "      <td>6.436731</td>\n",
       "      <td>0.426725</td>\n",
       "      <td>3.489453</td>\n",
       "      <td>4.838768</td>\n",
       "      <td>3.981431</td>\n",
       "      <td>4545.798987</td>\n",
       "    </tr>\n",
       "    <tr>\n",
       "      <th>min</th>\n",
       "      <td>1.000045e+06</td>\n",
       "      <td>0.000000</td>\n",
       "      <td>0.000000</td>\n",
       "      <td>1.000000</td>\n",
       "      <td>2.000000</td>\n",
       "      <td>3.000000</td>\n",
       "      <td>2003.000000</td>\n",
       "    </tr>\n",
       "    <tr>\n",
       "      <th>25%</th>\n",
       "      <td>1.001899e+06</td>\n",
       "      <td>1.000000</td>\n",
       "      <td>1.000000</td>\n",
       "      <td>3.000000</td>\n",
       "      <td>6.000000</td>\n",
       "      <td>9.000000</td>\n",
       "      <td>6045.500000</td>\n",
       "    </tr>\n",
       "    <tr>\n",
       "      <th>50%</th>\n",
       "      <td>1.003529e+06</td>\n",
       "      <td>3.000000</td>\n",
       "      <td>1.000000</td>\n",
       "      <td>5.000000</td>\n",
       "      <td>11.000000</td>\n",
       "      <td>14.000000</td>\n",
       "      <td>8050.000000</td>\n",
       "    </tr>\n",
       "    <tr>\n",
       "      <th>75%</th>\n",
       "      <td>1.004472e+06</td>\n",
       "      <td>11.000000</td>\n",
       "      <td>1.000000</td>\n",
       "      <td>8.000000</td>\n",
       "      <td>14.000000</td>\n",
       "      <td>16.000000</td>\n",
       "      <td>11770.500000</td>\n",
       "    </tr>\n",
       "    <tr>\n",
       "      <th>max</th>\n",
       "      <td>1.006039e+06</td>\n",
       "      <td>20.000000</td>\n",
       "      <td>1.000000</td>\n",
       "      <td>18.000000</td>\n",
       "      <td>18.000000</td>\n",
       "      <td>18.000000</td>\n",
       "      <td>23920.000000</td>\n",
       "    </tr>\n",
       "  </tbody>\n",
       "</table>\n",
       "</div>"
      ],
      "text/plain": [
       "            User_ID    Occupation  Marital_Status  Product_Category_1  \\\n",
       "count  1.222300e+04  12223.000000    12223.000000        12223.000000   \n",
       "mean   1.003219e+06      6.246748        0.760615            5.563446   \n",
       "std    1.777748e+03      6.436731        0.426725            3.489453   \n",
       "min    1.000045e+06      0.000000        0.000000            1.000000   \n",
       "25%    1.001899e+06      1.000000        1.000000            3.000000   \n",
       "50%    1.003529e+06      3.000000        1.000000            5.000000   \n",
       "75%    1.004472e+06     11.000000        1.000000            8.000000   \n",
       "max    1.006039e+06     20.000000        1.000000           18.000000   \n",
       "\n",
       "       Product_Category_2  Product_Category_3      Purchase  \n",
       "count         8278.000000         3495.000000  12223.000000  \n",
       "mean            10.149915           12.817167   9320.128855  \n",
       "std              4.838768            3.981431   4545.798987  \n",
       "min              2.000000            3.000000   2003.000000  \n",
       "25%              6.000000            9.000000   6045.500000  \n",
       "50%             11.000000           14.000000   8050.000000  \n",
       "75%             14.000000           16.000000  11770.500000  \n",
       "max             18.000000           18.000000  23920.000000  "
      ]
     },
     "execution_count": 139,
     "metadata": {},
     "output_type": "execute_result"
    }
   ],
   "source": [
    "data[(data['Gender'] == 'F') & (data['Age'] == '46-50') & (data['Purchase'] > 20000.0)].describe()"
   ]
  },
  {
   "cell_type": "code",
   "execution_count": 321,
   "metadata": {
    "collapsed": true,
    "id": "T2_v92xoYNEi"
   },
   "outputs": [
    {
     "name": "stdout",
     "output_type": "stream",
     "text": [
      "270.0\n",
      "================================================================================\n",
      "Wall time: 103 ms\n",
      "(270, 12)\n",
      "================================================================================\n",
      "Wall time: 75 ms\n",
      "(270, 12)\n",
      "================================================================================\n",
      "Wall time: 27 ms\n",
      "26-35    1021\n",
      "36-45     591\n",
      "18-25     356\n",
      "51-55     300\n",
      "46-50     270\n",
      "55+       164\n",
      "0-17       77\n",
      "Name: Age, dtype: int64\n",
      "================================================================================\n",
      "Wall time: 43 ms\n"
     ]
    }
   ],
   "source": [
    "%time print(data[(data['Gender'] == 'F') & (data['Age'] == '46-50') & (data['Purchase'] > 20000.0) \\\n",
    "                ].describe()['User_ID']['count'])\n",
    "%time print(data[(data['Gender'] == 'F') & (data['Age'] == '46-50') & (data['Purchase'] > 20000.0)].shape)\n",
    "%time print(data.query(\"Gender == 'F' & Age == '46-50' & Purchase > 20000.0\").shape)\n",
    "%time print(data[(data['Gender'] == 'F') & (data['Purchase'] > 20000.0)]['Age'].value_counts())"
   ]
  },
  {
   "cell_type": "markdown",
   "metadata": {
    "id": "oQNZ-8egYNEm"
   },
   "source": [
    "### 4. Сколько NaN'ов в столбце Product_Category_3?  "
   ]
  },
  {
   "cell_type": "code",
   "execution_count": 185,
   "metadata": {
    "collapsed": true,
    "id": "nwxjErPQYNEn"
   },
   "outputs": [
    {
     "name": "stdout",
     "output_type": "stream",
     "text": [
      "373299\n",
      "================================================================================\n",
      "Wall time: 249 ms\n",
      "NaN     373299\n",
      "16.0     32148\n",
      "15.0     27611\n",
      "14.0     18121\n",
      "17.0     16449\n",
      "5.0      16380\n",
      "8.0      12384\n",
      "9.0      11414\n",
      "12.0      9094\n",
      "13.0      5385\n",
      "6.0       4818\n",
      "18.0      4563\n",
      "4.0       1840\n",
      "11.0      1773\n",
      "10.0      1698\n",
      "3.0        600\n",
      "Name: Product_Category_3, dtype: int64\n",
      "================================================================================\n",
      "Wall time: 15.6 ms\n"
     ]
    }
   ],
   "source": [
    "%time print(data.count()['User_ID'] - data['Product_Category_3'].count())\n",
    "%time print(data['Product_Category_3'].value_counts(dropna=False))"
   ]
  },
  {
   "cell_type": "markdown",
   "metadata": {
    "id": "DxR8KgxBYNEs"
   },
   "source": [
    "### 5. Какую долю (вещественное число от 0 до 1, округлить до 4-го знака) от всех покупателей составляют вместе мужчины от 26 до 35 лет и женщины старше 36 лет (то есть нужно учесть несколько возрастных категорий)? (речь не об уникальных ID, а о количестве таких строк)  "
   ]
  },
  {
   "cell_type": "code",
   "execution_count": 81,
   "metadata": {
    "collapsed": true,
    "id": "ICK0SOJJYNEt"
   },
   "outputs": [
    {
     "name": "stdout",
     "output_type": "stream",
     "text": [
      "            User_ID     Occupation  Marital_Status  Product_Category_1  \\\n",
      "count  1.653420e+05  165342.000000   165342.000000       165342.000000   \n",
      "mean   1.003044e+06       8.320511        0.388328            5.110408   \n",
      "std    1.691932e+03       6.757262        0.487371            3.798971   \n",
      "min    1.000003e+06       0.000000        0.000000            1.000000   \n",
      "25%    1.001611e+06       2.000000        0.000000            1.000000   \n",
      "50%    1.003182e+06       7.000000        0.000000            5.000000   \n",
      "75%    1.004390e+06      15.000000        1.000000            8.000000   \n",
      "max    1.006040e+06      20.000000        1.000000           18.000000   \n",
      "\n",
      "       Product_Category_2  Product_Category_3       Purchase  \n",
      "count       114623.000000        52552.000000  165342.000000  \n",
      "mean             9.734713           12.690763    9470.621052  \n",
      "std              5.145427            4.127973    5049.267265  \n",
      "min              2.000000            3.000000     185.000000  \n",
      "25%              5.000000            9.000000    5856.000000  \n",
      "50%              8.000000           15.000000    8094.000000  \n",
      "75%             15.000000           16.000000   12445.000000  \n",
      "max             18.000000           18.000000   23961.000000  \n",
      "================================================================================\n",
      "\n",
      "            User_ID    Occupation  Marital_Status  Product_Category_1  \\\n",
      "count  5.383900e+04  53839.000000    53839.000000        53839.000000   \n",
      "mean   1.003105e+06      7.167629        0.541373            5.758818   \n",
      "std    1.732549e+03      6.457363        0.498290            3.560094   \n",
      "min    1.000006e+06      0.000000        0.000000            1.000000   \n",
      "25%    1.001816e+06      1.000000        0.000000            3.000000   \n",
      "50%    1.003093e+06      6.000000        1.000000            5.000000   \n",
      "75%    1.004596e+06     12.000000        1.000000            8.000000   \n",
      "max    1.006039e+06     20.000000        1.000000           18.000000   \n",
      "\n",
      "       Product_Category_2  Product_Category_3      Purchase  \n",
      "count        36530.000000        15046.000000  53839.000000  \n",
      "mean            10.243389           12.700984   9040.477646  \n",
      "std              4.858824            4.041112   4772.706734  \n",
      "min              2.000000            3.000000    185.000000  \n",
      "25%              6.000000            9.000000   5914.000000  \n",
      "50%             11.000000           14.000000   8010.000000  \n",
      "75%             14.000000           16.000000  11619.000000  \n",
      "max             18.000000           18.000000  23959.000000  \n",
      "================================================================================\n",
      "\n"
     ]
    }
   ],
   "source": [
    "ages = ['55+', '46-50', '51-55', '36-45']\n",
    "data[data['Gender'] == 'M'].groupby('Age').describe() # equal\n",
    "print(data[(data['Gender'] == 'M') & (data['Age'] == '26-35')].describe())\n",
    "print(data[(data['Gender'] == 'F') & (data['Age'].isin(ages))].describe())"
   ]
  },
  {
   "cell_type": "code",
   "execution_count": 213,
   "metadata": {
    "collapsed": true
   },
   "outputs": [
    {
     "name": "stdout",
     "output_type": "stream",
     "text": [
      "Wall time: 106 ms\n",
      "165342\n",
      "================================================================================\n",
      "Wall time: 93.6 ms\n",
      "(165342, 12)\n",
      "================================================================================\n"
     ]
    }
   ],
   "source": [
    "%time that_males = data[(data['Gender'] == 'M') & (data['Age'] == '26-35')]['User_ID'].size\n",
    "print(that_males)\n",
    "%time that_males = data[(data['Gender'] == 'M') & (data['Age'] == '26-35')].shape\n",
    "print(that_males)"
   ]
  },
  {
   "cell_type": "code",
   "execution_count": 215,
   "metadata": {
    "collapsed": true
   },
   "outputs": [
    {
     "name": "stdout",
     "output_type": "stream",
     "text": [
      "Wall time: 97 ms\n",
      "Wall time: 92 ms\n",
      "165342\t53839\t537577\n",
      "================================================================================\n",
      "0.4077\n",
      "================================================================================\n"
     ]
    }
   ],
   "source": [
    "%time that_males = data[(data['Gender'] == 'M') & (data['Age'] == '26-35')]['User_ID'].count()\n",
    "%time that_females = data[(data['Gender'] == 'F') & (data['Age'].isin(ages))]['User_ID'].count()\n",
    "\n",
    "print(that_males, that_females, data['User_ID'].count(), sep='\\t')\n",
    "print(((that_males + that_females) / data['User_ID'].count()).round(4))"
   ]
  },
  {
   "cell_type": "code",
   "execution_count": 218,
   "metadata": {
    "collapsed": true
   },
   "outputs": [
    {
     "name": "stdout",
     "output_type": "stream",
     "text": [
      "Wall time: 55 ms\n",
      "Wall time: 79 ms\n",
      "0.4077\n",
      "================================================================================\n"
     ]
    }
   ],
   "source": [
    "ages = ['55+', '46-50', '51-55', '36-45']\n",
    "%time male_rate = ((data['Gender'] == 'M') & (data['Age'] == '26-35')).mean()\n",
    "%time female_rate = ((data['Gender'] == 'F') & (data['Age'].isin(ages))).mean()\n",
    "print((male_rate + female_rate).round(4))"
   ]
  },
  {
   "cell_type": "code",
   "execution_count": 229,
   "metadata": {
    "collapsed": true
   },
   "outputs": [
    {
     "name": "stdout",
     "output_type": "stream",
     "text": [
      "Wall time: 149 ms\n",
      "0.4077\n",
      "================================================================================\n"
     ]
    }
   ],
   "source": [
    "%time rate = ((data['Age'] == '26-35') & (data['Gender'] == 'M') | (data['Age'] > '36') & (data['Gender'] == 'F')).mean()\n",
    "print(rate.round(4))"
   ]
  }
 ],
 "metadata": {
  "colab": {
   "collapsed_sections": [],
   "name": "[homework]pandas.ipynb",
   "provenance": []
  },
  "kernelspec": {
   "display_name": "Python 3",
   "language": "python",
   "name": "python3"
  },
  "language_info": {
   "codemirror_mode": {
    "name": "ipython",
    "version": 3
   },
   "file_extension": ".py",
   "mimetype": "text/x-python",
   "name": "python",
   "nbconvert_exporter": "python",
   "pygments_lexer": "ipython3",
   "version": "3.7.3"
  }
 },
 "nbformat": 4,
 "nbformat_minor": 1
}
