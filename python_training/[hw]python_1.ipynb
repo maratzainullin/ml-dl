{
 "cells": [
  {
   "cell_type": "code",
   "execution_count": 12,
   "id": "f8671e25",
   "metadata": {},
   "outputs": [
    {
     "name": "stdout",
     "output_type": "stream",
     "text": [
      "7905853580625\n"
     ]
    }
   ],
   "source": [
    "def almost_double_factorial(n):\n",
    "    res = 1\n",
    "    for i in range(1, n+1, 2):\n",
    "        res *= i\n",
    "    return res\n",
    "\n",
    "N_double_fact = almost_double_factorial(25)\n",
    "print(N_double_fact)\n",
    "assert N_double_fact == 7905853580625, \"Something is wrong! Please try again\""
   ]
  },
  {
   "cell_type": "code",
   "execution_count": 17,
   "id": "b0bd079d",
   "metadata": {},
   "outputs": [],
   "source": [
    "items = [('one', 'two'), ('three', 'four'), ('five', 'six'), ('string', 'a')]\n",
    "\n",
    "sorted_items = sorted(items, key=lambda x: x[1][-1])\n",
    "                      \n",
    "assert sorted_items == [('string', 'a'), ('one', 'two'), ('three', 'four'), ('five', 'six')], \\\n",
    "\"Something is wrong! Please try again\""
   ]
  },
  {
   "cell_type": "code",
   "execution_count": 29,
   "id": "087f771e",
   "metadata": {},
   "outputs": [],
   "source": [
    "x = [1, 2, 3, 4, 5]\n",
    "x[::-2] = [-1, -3, -5]\n",
    "assert x == [-5, 2, -3, 4, -1]"
   ]
  },
  {
   "cell_type": "code",
   "execution_count": 33,
   "id": "b18b34fe",
   "metadata": {},
   "outputs": [],
   "source": [
    "def cumsum_and_erase(A, erase=1):\n",
    "    #YOUR CODE\n",
    "    B = [A[0]]\n",
    "    for i in range(1, len(A)):\n",
    "        B.append(A[i] + B[i-1])\n",
    "    B = [b for b in B if b != erase]\n",
    "    return B\n",
    "\n",
    "A = [5, 1, 4, 5, 14]\n",
    "B = cumsum_and_erase(A, erase=10)\n",
    "\n",
    "assert B == [5, 6, 15, 29], \"Something is wrong! Please try again\""
   ]
  },
  {
   "cell_type": "code",
   "execution_count": 43,
   "id": "d6ab5e8f",
   "metadata": {},
   "outputs": [
    {
     "name": "stdout",
     "output_type": "stream",
     "text": [
      "[5, 6, 15, 29]\n"
     ]
    }
   ],
   "source": [
    "def cumsum_and_erase(A, erase=1):\n",
    "    sum_a, B = 0, []\n",
    "    for a in A:\n",
    "        sum_a += a\n",
    "        if sum_a != erase:\n",
    "            B.append(sum_a)\n",
    "    return B\n",
    "\n",
    "A = [5, 1, 4, 5, 14]\n",
    "B = cumsum_and_erase(A, erase=10)\n",
    "print(B)\n",
    "assert B == [5, 6, 15, 29], \"Something is wrong! Please try again\""
   ]
  },
  {
   "cell_type": "code",
   "execution_count": 65,
   "id": "6072357f",
   "metadata": {},
   "outputs": [],
   "source": [
    "sentences = ['1 thousand devils', 'My name is 9Pasha', 'Room #125 costs $100']\n",
    "\n",
    "def process(sentences):\n",
    "    result = []\n",
    "    for sentence in sentences:\n",
    "        result.append(' '.join(filter(lambda x: x.isalpha(), sentence.split())))\n",
    "#         result.append(' '.join([word for word in sentence.split() if word.isalpha()]))\n",
    "    return result\n",
    "\n",
    "assert process(sentences) == ['thousand devils', 'My name is', 'Room costs'], \\\n",
    "\"Something is wrong! Please try again\""
   ]
  },
  {
   "cell_type": "code",
   "execution_count": 144,
   "id": "e0b5985c",
   "metadata": {},
   "outputs": [],
   "source": [
    "class Neuron:\n",
    "    def __init__(self, w, f = lambda x: x):\n",
    "        self.w = w\n",
    "        self.f = f\n",
    "\n",
    "    def forward(self, x):\n",
    "        if len(x) != len(self.w):\n",
    "            print('len(x) != len(w)')\n",
    "        self.x = x\n",
    "        self.w_dot_x = sum([self.x[i] * self.w[i] for i in range(len(self.w))])\n",
    "        return self.f(self.w_dot_x)\n",
    "\n",
    "    def backlog(self):\n",
    "        return self.x"
   ]
  },
  {
   "cell_type": "code",
   "execution_count": 146,
   "id": "8b64b180",
   "metadata": {},
   "outputs": [],
   "source": [
    "import math\n",
    "\n",
    "w = [0.5, 1., -1., 2.]\n",
    "\n",
    "neuron = Neuron([0.5, 1., -1., 2.], lambda x: 1. / (1 + math.exp(x)))\n",
    "\n",
    "\n",
    "assert abs(neuron.forward(x) - 0.0005527) < 1e-6, \"Something is wrong! Please try again\"\n",
    "\n",
    "assert neuron.backlog() == x, \"Something is wrong! Please try again\"\n",
    "\n",
    "y = [0, 0, 0, 0]\n",
    "\n",
    "assert abs(neuron.forward(y) - 0.5) < 1e-6, \"Something is wrong! Please try again\""
   ]
  },
  {
   "cell_type": "code",
   "execution_count": null,
   "id": "ab581d0c",
   "metadata": {},
   "outputs": [],
   "source": []
  },
  {
   "cell_type": "code",
   "execution_count": null,
   "id": "4880dea1",
   "metadata": {},
   "outputs": [],
   "source": []
  }
 ],
 "metadata": {
  "kernelspec": {
   "display_name": "Python 3",
   "language": "python",
   "name": "python3"
  },
  "language_info": {
   "codemirror_mode": {
    "name": "ipython",
    "version": 3
   },
   "file_extension": ".py",
   "mimetype": "text/x-python",
   "name": "python",
   "nbconvert_exporter": "python",
   "pygments_lexer": "ipython3",
   "version": "3.8.8"
  }
 },
 "nbformat": 4,
 "nbformat_minor": 5
}
