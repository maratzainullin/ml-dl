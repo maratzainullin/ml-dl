{
 "cells": [
  {
   "cell_type": "markdown",
   "id": "602b8b59",
   "metadata": {},
   "source": [
    "# Algorithms Base"
   ]
  },
  {
   "cell_type": "code",
   "execution_count": 12,
   "id": "75937eb1",
   "metadata": {},
   "outputs": [],
   "source": [
    "import numpy as np"
   ]
  },
  {
   "cell_type": "markdown",
   "id": "697e9b54",
   "metadata": {},
   "source": [
    "## Erathosphen's filter, lists and cycles"
   ]
  },
  {
   "cell_type": "code",
   "execution_count": 82,
   "id": "09d2d498",
   "metadata": {},
   "outputs": [],
   "source": [
    "def erathosphen_filter_simple(n_max=100)-> list:\n",
    "    arr = [False, False] + [True] * (n_max - 2)\n",
    "    for i in range(2, int(n_max**.5) + 1):\n",
    "        for j in range(i**2, n_max, i):\n",
    "            arr[j] = False\n",
    "    return arr"
   ]
  },
  {
   "cell_type": "markdown",
   "id": "94d1c089",
   "metadata": {},
   "source": [
    "## Erathosphen's filter using numpy"
   ]
  },
  {
   "cell_type": "code",
   "execution_count": 84,
   "id": "9623407a",
   "metadata": {},
   "outputs": [],
   "source": [
    "def erathosphen_filter_better(n_max=100)-> np.ndarray:\n",
    "    arr = np.ones(n_max, dtype='bool')\n",
    "    arr[:2] = False\n",
    "    for i in range(2, int(n_max**.5) + 1):\n",
    "        arr[i**2::i] = False\n",
    "    return arr"
   ]
  },
  {
   "cell_type": "code",
   "execution_count": 93,
   "id": "609c9fe0",
   "metadata": {
    "scrolled": false
   },
   "outputs": [
    {
     "name": "stdout",
     "output_type": "stream",
     "text": [
      "[False False  True  True False  True False  True False False False  True]\n",
      "CPU times: user 636 µs, sys: 123 µs, total: 759 µs\n",
      "Wall time: 705 µs\n"
     ]
    }
   ],
   "source": [
    "%%time\n",
    "n_max = 1000\n",
    "arr_simple = np.array(erathosphen_filter_simple(n_max))\n",
    "print(arr_simple[:12])"
   ]
  },
  {
   "cell_type": "code",
   "execution_count": 96,
   "id": "e65fc729",
   "metadata": {},
   "outputs": [
    {
     "name": "stdout",
     "output_type": "stream",
     "text": [
      "[False False  True  True False  True False  True False False False  True]\n",
      "CPU times: user 449 µs, sys: 145 µs, total: 594 µs\n",
      "Wall time: 499 µs\n"
     ]
    }
   ],
   "source": [
    "%%time\n",
    "arr_better = erathosphen_filter_better(n_max)\n",
    "print(arr_better[:12])"
   ]
  },
  {
   "cell_type": "code",
   "execution_count": 102,
   "id": "843311cb",
   "metadata": {},
   "outputs": [
    {
     "name": "stdout",
     "output_type": "stream",
     "text": [
      "True\n",
      "[  2   3   5   7  11  13  17  19  23  29  31  37  41  43  47  53  59  61\n",
      "  67  71  73  79  83  89  97 101 103 107 109 113 127 131 137 139 149 151\n",
      " 157 163 167 173 179 181 191 193 197 199 211 223 227 229 233 239 241 251\n",
      " 257 263 269 271 277 281 283 293 307 311 313 317 331 337 347 349 353 359\n",
      " 367 373 379 383 389 397 401 409 419 421 431 433 439 443 449 457 461 463\n",
      " 467 479 487 491 499 503 509 521 523 541 547 557 563 569 571 577 587 593\n",
      " 599 601 607 613 617 619 631 641 643 647 653 659 661 673 677 683 691 701\n",
      " 709 719 727 733 739 743 751 757 761 769 773 787 797 809 811 821 823 827\n",
      " 829 839 853 857 859 863 877 881 883 887 907 911 919 929 937 941 947 953\n",
      " 967 971 977 983 991 997]\n",
      "[  2   3   5   7  11  13  17  19  23  29  31  37  41  43  47  53  59  61\n",
      "  67  71  73  79  83  89  97 101 103 107 109 113 127 131 137 139 149 151\n",
      " 157 163 167 173 179 181 191 193 197 199 211 223 227 229 233 239 241 251\n",
      " 257 263 269 271 277 281 283 293 307 311 313 317 331 337 347 349 353 359\n",
      " 367 373 379 383 389 397 401 409 419 421 431 433 439 443 449 457 461 463\n",
      " 467 479 487 491 499 503 509 521 523 541 547 557 563 569 571 577 587 593\n",
      " 599 601 607 613 617 619 631 641 643 647 653 659 661 673 677 683 691 701\n",
      " 709 719 727 733 739 743 751 757 761 769 773 787 797 809 811 821 823 827\n",
      " 829 839 853 857 859 863 877 881 883 887 907 911 919 929 937 941 947 953\n",
      " 967 971 977 983 991 997]\n"
     ]
    }
   ],
   "source": [
    "numbers = np.arange(n_max)\n",
    "print(np.all(arr_better == arr_simple))\n",
    "print(numbers[arr_better == True])\n",
    "print(numbers[arr_simple == True])"
   ]
  },
  {
   "cell_type": "code",
   "execution_count": null,
   "id": "021dd547",
   "metadata": {},
   "outputs": [],
   "source": []
  }
 ],
 "metadata": {
  "kernelspec": {
   "display_name": "Python 3",
   "language": "python",
   "name": "python3"
  },
  "language_info": {
   "codemirror_mode": {
    "name": "ipython",
    "version": 3
   },
   "file_extension": ".py",
   "mimetype": "text/x-python",
   "name": "python",
   "nbconvert_exporter": "python",
   "pygments_lexer": "ipython3",
   "version": "3.8.8"
  }
 },
 "nbformat": 4,
 "nbformat_minor": 5
}
