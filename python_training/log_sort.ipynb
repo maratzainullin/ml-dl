{
 "cells": [
  {
   "cell_type": "code",
   "execution_count": 1,
   "id": "98f65eaf",
   "metadata": {},
   "outputs": [],
   "source": [
    "import numpy as np"
   ]
  },
  {
   "cell_type": "code",
   "execution_count": 2,
   "id": "39f25cf8",
   "metadata": {},
   "outputs": [],
   "source": [
    "def merge_sort():\n",
    "    pass"
   ]
  },
  {
   "cell_type": "code",
   "execution_count": 3,
   "id": "8c7ec5f2",
   "metadata": {},
   "outputs": [],
   "source": [
    "def merge():\n",
    "    pass"
   ]
  },
  {
   "cell_type": "code",
   "execution_count": null,
   "id": "598c3b28",
   "metadata": {},
   "outputs": [],
   "source": [
    "def split_barrier(A, barrier):\n",
    "    left = []\n",
    "    right = []\n",
    "    left.extend(A[:len(A)//2])\n",
    "    right.extend(A[len(A)//2+1])\n",
    "\n",
    "split"
   ]
  }
 ],
 "metadata": {
  "kernelspec": {
   "display_name": "Python 3",
   "language": "python",
   "name": "python3"
  },
  "language_info": {
   "codemirror_mode": {
    "name": "ipython",
    "version": 3
   },
   "file_extension": ".py",
   "mimetype": "text/x-python",
   "name": "python",
   "nbconvert_exporter": "python",
   "pygments_lexer": "ipython3",
   "version": "3.8.8"
  }
 },
 "nbformat": 4,
 "nbformat_minor": 5
}
