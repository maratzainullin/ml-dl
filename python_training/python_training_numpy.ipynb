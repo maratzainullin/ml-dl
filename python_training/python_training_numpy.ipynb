{
 "cells": [
  {
   "cell_type": "code",
   "execution_count": 1,
   "metadata": {},
   "outputs": [],
   "source": [
    "import numpy as np"
   ]
  },
  {
   "cell_type": "code",
   "execution_count": 2,
   "metadata": {},
   "outputs": [
    {
     "name": "stdout",
     "output_type": "stream",
     "text": [
      "[    1     2 32700]\n"
     ]
    }
   ],
   "source": [
    "a = np.array([1, 2, 32700], dtype='int16')\n",
    "print(a)"
   ]
  },
  {
   "cell_type": "code",
   "execution_count": null,
   "metadata": {},
   "outputs": [],
   "source": [
    "arr = np.array([[[1, 2, 3],\n",
    "                [4, 5, 6]],\n",
    "               [[7, 8, 9],\n",
    "                [10, 11, 12]]]\n",
    ")\n",
    "print(arr)\n",
    "print(len(arr))\n",
    "print(arr.size)\n",
    "print(arr.shape)\n",
    "print(arr.ndim)"
   ]
  },
  {
   "cell_type": "code",
   "execution_count": 4,
   "metadata": {},
   "outputs": [
    {
     "name": "stdout",
     "output_type": "stream",
     "text": [
      "[0 0 0 0 0 0 0 0 0 0]\n",
      "[1. 1. 1. 1. 1. 1. 1. 1. 1. 1.]\n"
     ]
    }
   ],
   "source": [
    "zeros = np.zeros(10, dtype='int16')\n",
    "ones = np.ones(10, dtype='float16')\n",
    "print(zeros)\n",
    "print(ones)"
   ]
  },
  {
   "cell_type": "code",
   "execution_count": 5,
   "metadata": {},
   "outputs": [
    {
     "name": "stdout",
     "output_type": "stream",
     "text": [
      "[1. 2. 3. 4. 5. 6.]\n",
      "[1. 1. 1. 1. 1. 1.]\n",
      "[0. 0. 0. 0. 0. 0.]\n",
      "[1.0, 2.0, 3]\n",
      "[0. 0. 0.] <class 'numpy.ndarray'> <class 'numpy.float64'>\n"
     ]
    }
   ],
   "source": [
    "arr = np.array([1, 2, 3, 4, 5, 6], dtype='float64')\n",
    "arr_py = [1.0, 2.0, 3]\n",
    "zeros_like_arr_py = np.zeros_like(arr_py)\n",
    "ones_like_arr = np.ones_like(arr)\n",
    "zeros_like_arr = np.zeros_like(arr)\n",
    "print(arr)\n",
    "print(ones_like_arr)\n",
    "print(zeros_like_arr)\n",
    "print(arr_py)\n",
    "print(zeros_like_arr_py, type(zeros_like_arr_py), type(zeros_like_arr_py[0]))\n"
   ]
  },
  {
   "cell_type": "code",
   "execution_count": 6,
   "metadata": {},
   "outputs": [
    {
     "name": "stdout",
     "output_type": "stream",
     "text": [
      "[0 1 2 3 4] [5.5 7.5 9.5] [1.  2.4 3.8 5.2 6.6 8.  9.4]\n"
     ]
    }
   ],
   "source": [
    "a = np.arange(5)\n",
    "b = np.arange(5.5, 10, 2)\n",
    "c = np.arange(1, 10, 1.4) #last element not included\n",
    "print(a, b, c)"
   ]
  },
  {
   "cell_type": "code",
   "execution_count": 7,
   "metadata": {},
   "outputs": [
    {
     "name": "stdout",
     "output_type": "stream",
     "text": [
      "[-5 -3 -1  1  3  5  7  9] [ 5.  3.  1. -1. -3. -5. -7. -9.]\n",
      "[] []\n"
     ]
    }
   ],
   "source": [
    "a = np.arange(-5, 10, 2)\n",
    "a2 = np.arange(-5, 10, -2)\n",
    "b = np.arange(5, -10, -2, dtype='float64')\n",
    "b2 = np.arange(5, -10, 2)\n",
    "print(a, b)\n",
    "print(a2, b2)"
   ]
  },
  {
   "cell_type": "code",
   "execution_count": 8,
   "metadata": {},
   "outputs": [
    {
     "name": "stdout",
     "output_type": "stream",
     "text": [
      "[-1.  1.  3.  5.  7.  9. 11. 13.]\n",
      "[ 4.9   5.62  6.34  7.06  7.78  8.5   9.22  9.94 10.66 11.38 12.1 ]\n"
     ]
    }
   ],
   "source": [
    "a = np.linspace(-1, 13, 8)\n",
    "b = np.linspace(4.9, 12.1, 11) #first and last are included, countnity by defoult 50\n",
    "print(a)\n",
    "print(b)"
   ]
  },
  {
   "cell_type": "code",
   "execution_count": 9,
   "metadata": {},
   "outputs": [
    {
     "name": "stdout",
     "output_type": "stream",
     "text": [
      "[15. 11.  7.  3. -1.] [15.1  12.94 10.78  8.62  6.46  4.3 ]\n"
     ]
    }
   ],
   "source": [
    "a = np.linspace(15, -1, 5)\n",
    "b = np.linspace(15.1, 4.3, 6)\n",
    "print(a, b)"
   ]
  },
  {
   "cell_type": "code",
   "execution_count": 10,
   "metadata": {},
   "outputs": [
    {
     "name": "stdout",
     "output_type": "stream",
     "text": [
      "[9.998e-02 6.309e-01 3.980e+00 2.512e+01 1.585e+02 1.000e+03]\n"
     ]
    }
   ],
   "source": [
    "print(np.logspace(-1, 3, 6, dtype='float16'))"
   ]
  },
  {
   "cell_type": "code",
   "execution_count": 11,
   "metadata": {
    "scrolled": true
   },
   "outputs": [
    {
     "name": "stdout",
     "output_type": "stream",
     "text": [
      "[ 1.   3.5  6.   8.5 11.  13.5 16. ]\n",
      "[-10.  -9.  -8.  -7.  -6.  -5.  -4.]\n",
      "[-9.  -5.5 -2.   1.5  5.   8.5 12. ]\n",
      "[-10.  -31.5 -48.  -59.5 -66.  -67.5 -64. ]\n",
      "[11.  12.5 14.  15.5 17.  18.5 20. ]\n",
      "[0. 0. 0. 1. 1. 2. 4.]\n",
      "[1.  3.5 6.  1.5 5.  3.5 0. ]\n",
      "[ 3.  10.5 18.  25.5 33.  40.5 48. ]\n",
      "[11.  13.5 16.  18.5 21.  23.5 26. ]\n",
      "[ 1  2  3  4  5  6  7  8  9 10]\n",
      "[  1   4   9  16  25  36  49  64  81 100]\n",
      "[   2    4    8   16   32   64  128  256  512 1024]\n",
      "[ 0.84147098  0.90929743  0.14112001 -0.7568025  -0.95892427 -0.2794155\n",
      "  0.6569866   0.98935825  0.41211849 -0.54402111]\n",
      "[0.         0.69314718 1.09861229 1.38629436 1.60943791 1.79175947\n",
      " 1.94591015 2.07944154 2.19722458 2.30258509]\n"
     ]
    }
   ],
   "source": [
    "a = np.linspace(1, 16, 7)\n",
    "b = np.linspace(-10, -4, 7)\n",
    "print(a)\n",
    "print(b)\n",
    "print(a + b)\n",
    "print(a * b)\n",
    "print(a - b)\n",
    "print(a // -b)\n",
    "print(a % -b)\n",
    "print(a * 3)\n",
    "print(a + 10)\n",
    "c = np.linspace(1, 10, 10, dtype='int64')\n",
    "print(c)\n",
    "print(c ** 2)\n",
    "print(2 ** c)\n",
    "print(np.sin(c))\n",
    "print(np.log(c))\n"
   ]
  },
  {
   "cell_type": "code",
   "execution_count": 12,
   "metadata": {},
   "outputs": [
    {
     "name": "stdout",
     "output_type": "stream",
     "text": [
      "[False False False  True  True  True  True]\n",
      "[False False False False False False False]\n",
      "[ 1.   3.5  6.   8.5 11.  13.5 16. ]\n",
      "[-10.  -9.  -8.  -7.  -6.  -5.  -4.]\n",
      "True True\n",
      "False True\n"
     ]
    }
   ],
   "source": [
    "a = np.linspace(1, 16, 7)\n",
    "b = np.linspace(-10, -4, 7)\n",
    "print(a > -b)\n",
    "print(a == b)\n",
    "print(a)\n",
    "print(b)\n",
    "print(np.any(a == 13.5), np.any(b > -5))\n",
    "print(np.all(a > 1), np.all(b < 0))"
   ]
  },
  {
   "cell_type": "markdown",
   "metadata": {},
   "source": [
    "## inplace"
   ]
  },
  {
   "cell_type": "code",
   "execution_count": 14,
   "metadata": {},
   "outputs": [
    {
     "name": "stdout",
     "output_type": "stream",
     "text": [
      "[100.  81.  64.  49.  36.  25.  16.]\n",
      "[90. 72. 56. 42. 30. 20. 12.]\n",
      "[180. 144. 112.  84.  60.  40.  24.]\n"
     ]
    }
   ],
   "source": [
    "a = np.linspace(1, 16, 7)\n",
    "b = np.linspace(-10, -4, 7)\n",
    "print(b ** 2)\n",
    "b += b ** 2\n",
    "print(b)\n",
    "b *= 2\n",
    "print(b)"
   ]
  },
  {
   "cell_type": "code",
   "execution_count": 15,
   "metadata": {},
   "outputs": [
    {
     "name": "stdout",
     "output_type": "stream",
     "text": [
      "[ 1.  2.  3.  4.  5.  6.  7.  8.  9. 10.]\n",
      "[-10.  -9.  -8.  -7.  -6.  -5.  -4.]\n",
      "[ 1.  3.  6. 10. 15. 21. 28. 36. 45. 55.]\n",
      "[-10. -19. -27. -34. -40. -45. -49.]\n"
     ]
    }
   ],
   "source": [
    "a = np.linspace(1, 10, 10)\n",
    "b = np.linspace(-10, -4, 7)\n",
    "print(a)\n",
    "print(b)\n",
    "print(np.cumsum(a))\n",
    "print(np.cumsum(b))"
   ]
  },
  {
   "cell_type": "markdown",
   "metadata": {},
   "source": [
    "## union of arrays"
   ]
  },
  {
   "cell_type": "code",
   "execution_count": 17,
   "metadata": {},
   "outputs": [
    {
     "name": "stdout",
     "output_type": "stream",
     "text": [
      "[  1.   2.   3.   4. -10.  -9.  -8.  -7. -50. -45. -40. -35.]\n",
      "[1.] [2. 3.] [  4. -10.] [ -9.  -8.  -7. -50. -45. -40. -35.]\n",
      "[1. 2. 3.] [] [  3.   4. -10.] [ -9.  -8.  -7. -50. -45. -40. -35.]\n"
     ]
    }
   ],
   "source": [
    "a = np.linspace(1, 4, 4)\n",
    "b = np.linspace(-10, -7, 4)\n",
    "c = np.hstack((a, b, b*5))\n",
    "print(c)\n",
    "c1, c2, c3, c4 = np.hsplit(c, [1, 3, 5])\n",
    "print(c1, c2, c3, c4)\n",
    "c1, c2, c3, c4 = np.hsplit(c, [3, 2, 5])\n",
    "print(c1, c2, c3, c4)"
   ]
  },
  {
   "cell_type": "code",
   "execution_count": 18,
   "metadata": {},
   "outputs": [
    {
     "name": "stdout",
     "output_type": "stream",
     "text": [
      "[1.  1.5 2.  2.5 3.  3.5 4. ]\n",
      "[1.  1.5 2.5 3.5 4. ]\n",
      "[ 1.   1.5  2.  13.  18.  28.  38.  43.   2.5  3.   3.5  4. ]\n",
      "[ 1.   1.5  2.   2.5  3.   3.5  4.  13.  18.  28.  38.  43. ]\n"
     ]
    }
   ],
   "source": [
    "a = np.linspace(1, 4, 7)\n",
    "b = np.delete(a, [2, 4])\n",
    "c = np.insert(a, 3, b * 10 + 3)\n",
    "d = np.append(a, 10*b + 3)\n",
    "print(a)\n",
    "print(b)\n",
    "print(c)\n",
    "print(d)"
   ]
  },
  {
   "cell_type": "code",
   "execution_count": 19,
   "metadata": {},
   "outputs": [],
   "source": [
    "## indexes and slices\n"
   ]
  },
  {
   "cell_type": "code",
   "execution_count": 20,
   "metadata": {},
   "outputs": [
    {
     "name": "stdout",
     "output_type": "stream",
     "text": [
      "[ 2.  4.  6.  8. 10. 12. 14. 16. 18. 20. 22.]\n",
      "[22. 20. 18. 16. 14. 12. 10.  8.  6.  4.  2.]\n",
      "[ 8. 12. 16.]\n",
      "[  2.   4.   6. 100.  10. 100.  14. 100.  18.  20.  22.]\n",
      "[  2.   4.   6. 100.  10. 100.  14. 100.  18.  20.  22.]\n",
      "[  2.   4.   6. -10.  10. 100.  14. 100.  18.  20.  22.] \n",
      " [  2.   4.   6. -10.  10. 100.  14. 100.  18.  20.  22.]\n",
      "[  2.   4.   6. -10.  10. 100.  14. 100.  18.  20.  22.] \n",
      " [   2.    4.    6. -999.   10.  100.   14.  100.   18.   20.   22.]\n"
     ]
    }
   ],
   "source": [
    "a = np.linspace(2, 22, 11)\n",
    "print(a)\n",
    "print(a[::-1])\n",
    "print(a[3:9:2])\n",
    "a[3:9:2] = 100\n",
    "print(a)\n",
    "b = a\n",
    "print(b)\n",
    "b[3] = -10\n",
    "print(a, '\\n', b)\n",
    "b = np.copy(a)\n",
    "b[3] = -999\n",
    "print(a, '\\n', b)"
   ]
  },
  {
   "cell_type": "code",
   "execution_count": 21,
   "metadata": {},
   "outputs": [
    {
     "name": "stdout",
     "output_type": "stream",
     "text": [
      "[ 2.  4.  6.  8. 10. 12. 14. 16. 18. 20. 22.]\n",
      "[ 0.  1.  2.  3.  4.  5.  6.  7.  8.  9. 10.]\n",
      "[ 4. 10. 16.]\n"
     ]
    }
   ],
   "source": [
    "a = np.linspace(2, 22, 11)\n",
    "print(a)\n",
    "print(np.arange(11.0))\n",
    "print(a[[1, 4, 7]])"
   ]
  },
  {
   "cell_type": "code",
   "execution_count": 22,
   "metadata": {},
   "outputs": [
    {
     "name": "stdout",
     "output_type": "stream",
     "text": [
      "True\n"
     ]
    }
   ],
   "source": [
    "a = np.linspace(-4*np.pi, 4*np.pi, 100)\n",
    "summ = np.sin(a)**2 + np.cos(a)**2\n",
    "print(np.all(summ.round() == 1))"
   ]
  },
  {
   "cell_type": "code",
   "execution_count": 23,
   "metadata": {},
   "outputs": [],
   "source": [
    "## 2d-arrays"
   ]
  },
  {
   "cell_type": "code",
   "execution_count": 24,
   "metadata": {},
   "outputs": [
    {
     "name": "stdout",
     "output_type": "stream",
     "text": [
      "[[ 2.  4.  6.  8. 10. 12. 14. 16. 18. 20. 22.]\n",
      " [ 3.  6.  9. 12. 15. 18. 21. 24. 27. 30. 33.]]\n",
      "2 22 (2, 11) 2\n",
      "9.0 9.0\n"
     ]
    }
   ],
   "source": [
    "a = np.array([np.linspace(2, 22, 11), np.linspace(3, 33, 11)])\n",
    "print(a)\n",
    "print(len(a), a.size, a.shape, a.ndim)\n",
    "print(a[1][2], a[1, 2])"
   ]
  },
  {
   "cell_type": "code",
   "execution_count": 25,
   "metadata": {},
   "outputs": [
    {
     "name": "stdout",
     "output_type": "stream",
     "text": [
      "[ 0  1  2  3  4  5  6  7  8  9 10 11 12 13 14 15 16 17 18 19]\n",
      "[[ 0  1  2  3  4  5  6  7  8  9]\n",
      " [10 11 12 13 14 15 16 17 18 19]]\n",
      "[[ 0  1  2  3  4]\n",
      " [ 5  6  7  8  9]\n",
      " [10 11 12 13 14]\n",
      " [15 16 17 18 19]]\n",
      "[ 0  1  2  3  4  5  6  7  8  9 10 11 12 13 14 15 16 17 18 19]\n",
      "[[ 0  1  2  3  4]\n",
      " [ 5  6  7  8  9]\n",
      " [10 11 12 13 14]\n",
      " [15 16 17 18 19]]\n"
     ]
    }
   ],
   "source": [
    "a = np.arange(0, 20)\n",
    "print(a)\n",
    "a.shape = (2, 10)\n",
    "print(a)\n",
    "a.shape = (4, 5)\n",
    "print(a)\n",
    "print(a.ravel())\n",
    "a.shape = (4, 5)\n",
    "print(a)\n"
   ]
  },
  {
   "cell_type": "code",
   "execution_count": 26,
   "metadata": {},
   "outputs": [
    {
     "name": "stdout",
     "output_type": "stream",
     "text": [
      "[[1. 1. 1. 1. 1.]\n",
      " [1. 1. 1. 1. 1.]\n",
      " [1. 1. 1. 1. 1.]]\n",
      "[[0. 0. 0.]\n",
      " [0. 0. 0.]\n",
      " [0. 0. 0.]\n",
      " [0. 0. 0.]\n",
      " [0. 0. 0.]]\n",
      "[[3. 0. 0. 0. 0.]\n",
      " [0. 3. 0. 0. 0.]\n",
      " [0. 0. 3. 0. 0.]\n",
      " [0. 0. 0. 3. 0.]\n",
      " [0. 0. 0. 0. 3.]]\n",
      "[[1 0 0 0]\n",
      " [0 2 0 0]\n",
      " [0 0 3 0]\n",
      " [0 0 0 4]]\n"
     ]
    }
   ],
   "source": [
    "d2ones = np.ones((3, 5))\n",
    "d2zeros = np.zeros((5, 3))\n",
    "print(d2ones)\n",
    "print(d2zeros)\n",
    "print(3*np.eye(5))\n",
    "d = np.diag([1, 2, 3, 4])\n",
    "print(d)"
   ]
  },
  {
   "cell_type": "code",
   "execution_count": 27,
   "metadata": {},
   "outputs": [
    {
     "name": "stdout",
     "output_type": "stream",
     "text": [
      "[[ 3.  0.  0.  0.  0.  0.  0. -1.]\n",
      " [ 0.  6.  0.  0.  0.  0. -1.  0.]\n",
      " [ 0.  0.  9.  0.  0. -1.  0.  0.]\n",
      " [ 0.  0.  0. 12. -1.  0.  0.  0.]\n",
      " [ 0.  0.  0. -1. 15.  0.  0.  0.]\n",
      " [ 0.  0. -1.  0.  0. 18.  0.  0.]\n",
      " [ 0. -1.  0.  0.  0.  0. 21.  0.]\n",
      " [-1.  0.  0.  0.  0.  0.  0. 24.]]\n"
     ]
    }
   ],
   "source": [
    "a = -1*np.eye(8)[::-1] + np.diag(np.arange(3, 25, 3))\n",
    "print(a)"
   ]
  },
  {
   "cell_type": "code",
   "execution_count": 28,
   "metadata": {},
   "outputs": [],
   "source": [
    "## matrix production"
   ]
  },
  {
   "cell_type": "code",
   "execution_count": 29,
   "metadata": {},
   "outputs": [
    {
     "name": "stdout",
     "output_type": "stream",
     "text": [
      "[[10.  5.  5.  5.  5.]\n",
      " [ 5. 10.  5.  5.  5.]\n",
      " [ 5.  5. 10.  5.  5.]\n",
      " [ 5.  5.  5. 10.  5.]\n",
      " [ 5.  5.  5.  5. 10.]]\n",
      "[[30. 30. 30. 30. 30.]\n",
      " [30. 30. 30. 30. 30.]\n",
      " [30. 30. 30. 30. 30.]\n",
      " [30. 30. 30. 30. 30.]\n",
      " [30. 30. 30. 30. 30.]]\n",
      "[[30. 30. 30. 30. 30.]\n",
      " [30. 30. 30. 30. 30.]\n",
      " [30. 30. 30. 30. 30.]\n",
      " [30. 30. 30. 30. 30.]\n",
      " [30. 30. 30. 30. 30.]]\n",
      "[[2. 1. 1. 1. 1.]\n",
      " [1. 2. 1. 1. 1.]\n",
      " [1. 1. 2. 1. 1.]\n",
      " [1. 1. 1. 2. 1.]\n",
      " [1. 1. 1. 1. 2.]]\n"
     ]
    }
   ],
   "source": [
    "a = 5*np.ones((5, 5))\n",
    "b = np.eye(5) + 1\n",
    "print(a*b)\n",
    "print(a @ b)\n",
    "print(a.dot(b))\n",
    "print(b)"
   ]
  },
  {
   "cell_type": "code",
   "execution_count": 30,
   "metadata": {},
   "outputs": [],
   "source": [
    " ## meshgrid"
   ]
  },
  {
   "cell_type": "code",
   "execution_count": 31,
   "metadata": {},
   "outputs": [
    {
     "name": "stdout",
     "output_type": "stream",
     "text": [
      "[0. 2. 4. 6.]\n",
      "[0. 3. 6. 9.]\n",
      "\n",
      "[[0. 2. 4. 6.]\n",
      " [0. 2. 4. 6.]\n",
      " [0. 2. 4. 6.]\n",
      " [0. 2. 4. 6.]]\n",
      "\n",
      "[[0. 0. 0. 0.]\n",
      " [3. 3. 3. 3.]\n",
      " [6. 6. 6. 6.]\n",
      " [9. 9. 9. 9.]]\n",
      "[[0. 0. 0. 0. 3. 3. 3. 3.]\n",
      " [6. 6. 6. 6. 9. 9. 9. 9.]]\n",
      "[0. 0. 0. 0. 3. 3. 3. 3. 6. 6. 6. 6. 9. 9. 9. 9.]\n"
     ]
    }
   ],
   "source": [
    "u = np.linspace(0, 6, 4)\n",
    "v = np.linspace(0, 9, 4)\n",
    "print(u)\n",
    "print(v)\n",
    "print()\n",
    "x, y = np.meshgrid(u, v)\n",
    "print(x)\n",
    "print()\n",
    "print(y)\n",
    "print(y.reshape((2, 8)))\n",
    "print(y.reshape(16))"
   ]
  },
  {
   "cell_type": "code",
   "execution_count": 32,
   "metadata": {},
   "outputs": [],
   "source": [
    "## Eratosphenus filter algo"
   ]
  },
  {
   "cell_type": "code",
   "execution_count": 33,
   "metadata": {},
   "outputs": [
    {
     "name": "stdout",
     "output_type": "stream",
     "text": [
      "Wall time: 0 ns\n"
     ]
    }
   ],
   "source": [
    "%%time\n",
    "n_max = 1000\n",
    "is_prime = [1]*n_max\n",
    "is_prime[:2] = 0, 0\n",
    "for i in range(2, int(n_max**.5) + 1):\n",
    "    for j in range(i**2, n_max, i):\n",
    "        is_prime[j] = 0"
   ]
  },
  {
   "cell_type": "code",
   "execution_count": 34,
   "metadata": {},
   "outputs": [
    {
     "name": "stdout",
     "output_type": "stream",
     "text": [
      "[  2   3   5   7  11  13  17  19  23  29  31  37  41  43  47  53  59  61\n",
      "  67  71  73  79  83  89  97 101 103 107 109 113 127 131 137 139 149 151\n",
      " 157 163 167 173 179 181 191 193 197 199 211 223 227 229 233 239 241 251\n",
      " 257 263 269 271 277 281 283 293 307 311 313 317 331 337 347 349 353 359\n",
      " 367 373 379 383 389 397 401 409 419 421 431 433 439 443 449 457 461 463\n",
      " 467 479 487 491 499 503 509 521 523 541 547 557 563 569 571 577 587 593\n",
      " 599 601 607 613 617 619 631 641 643 647 653 659 661 673 677 683 691 701\n",
      " 709 719 727 733 739 743 751 757 761 769 773 787 797 809 811 821 823 827\n",
      " 829 839 853 857 859 863 877 881 883 887 907 911 919 929 937 941 947 953\n",
      " 967 971 977 983 991 997]\n",
      "Wall time: 1 ms\n"
     ]
    }
   ],
   "source": [
    "%%time\n",
    "n_max = 1000\n",
    "numbers = np.arange(n_max)\n",
    "is_primes = np.ones(n_max, dtype='bool')\n",
    "\n",
    "is_primes[:2] = False\n",
    "for i in range(2, int(n_max**.5) + 1):\n",
    "    is_primes[i**2::i] = False\n",
    "\n",
    "#if np.all(is_primes == is_prime):\n",
    "#    print('wow')\n",
    "#eq = is_primes == is_prime\n",
    "#print(eq[eq==False])\n",
    "\n",
    "print(numbers[is_primes])"
   ]
  },
  {
   "cell_type": "code",
   "execution_count": 35,
   "metadata": {},
   "outputs": [],
   "source": [
    "sepa = '\\n'+'-'*60 + '\\n'"
   ]
  },
  {
   "cell_type": "code",
   "execution_count": 36,
   "metadata": {},
   "outputs": [
    {
     "name": "stdout",
     "output_type": "stream",
     "text": [
      "True\n",
      "[ True  True  True  True  True  True  True  True  True  True]\n"
     ]
    }
   ],
   "source": [
    "a = [1]*10\n",
    "b = [1]*10\n",
    "print(a==b)\n",
    "c = np.ones(10)\n",
    "d = np.ones(10)\n",
    "print(c==1)"
   ]
  },
  {
   "cell_type": "code",
   "execution_count": 37,
   "metadata": {},
   "outputs": [],
   "source": [
    "## masks"
   ]
  },
  {
   "cell_type": "code",
   "execution_count": 38,
   "metadata": {},
   "outputs": [
    {
     "name": "stdout",
     "output_type": "stream",
     "text": [
      "[ True False False  True False False  True False False  True]\n",
      "[0 3 6 9]\n",
      "[False False  True  True]\n",
      "[6 9]\n",
      "\n",
      "[6 9]\n",
      "\n"
     ]
    }
   ],
   "source": [
    "a = np.arange(10)\n",
    "b = np.arange(18, -1, -2)\n",
    "\n",
    "print(a % 3 == 0)\n",
    "print(a[a % 3 == 0])\n",
    "print(a[a % 3 == 0] > 3)\n",
    "print(a[a % 3 == 0][ a[a % 3 == 0] > 3])\n",
    "\n",
    "print()\n",
    "print(a[a > 3][a[a > 3] % 3 == 0] )\n",
    "print()\n"
   ]
  },
  {
   "cell_type": "code",
   "execution_count": 39,
   "metadata": {},
   "outputs": [
    {
     "name": "stdout",
     "output_type": "stream",
     "text": [
      "[[10  0  0  0  0  0  0  0  0  0]\n",
      " [ 0 11  0  0  0  0  0  0  0  0]\n",
      " [ 0  0 12  0  0  0  0  0  0  0]\n",
      " [ 0  0  0 13  0  0  0  0  0  0]\n",
      " [ 0  0  0  0 14  0  0  0  0  0]\n",
      " [ 0  0  0  0  0 15  0  0  0  0]\n",
      " [ 0  0  0  0  0  0 16  0  0  0]\n",
      " [ 0  0  0  0  0  0  0 17  0  0]\n",
      " [ 0  0  0  0  0  0  0  0 18  0]\n",
      " [ 0  0  0  0  0  0  0  0  0 19]]\n",
      "145\n"
     ]
    }
   ],
   "source": [
    "a = np.arange(20)\n",
    "b = np.diag(a[a >= 10])\n",
    "print(b)\n",
    "trace = np.trace(b)\n",
    "print(trace)"
   ]
  },
  {
   "cell_type": "code",
   "execution_count": 40,
   "metadata": {},
   "outputs": [],
   "source": [
    "## tenzors"
   ]
  },
  {
   "cell_type": "code",
   "execution_count": 41,
   "metadata": {},
   "outputs": [
    {
     "name": "stdout",
     "output_type": "stream",
     "text": [
      "[[[ 0  1  2  3]\n",
      "  [ 4  5  6  7]]\n",
      "\n",
      " [[ 8  9 10 11]\n",
      "  [12 13 14 15]]\n",
      "\n",
      " [[16 17 18 19]\n",
      "  [20 21 22 23]]\n",
      "\n",
      " [[24 25 26 27]\n",
      "  [28 29 30 31]]\n",
      "\n",
      " [[32 33 34 35]\n",
      "  [36 37 38 39]]\n",
      "\n",
      " [[40 41 42 43]\n",
      "  [44 45 46 47]]]\n",
      "(6, 2, 4) 48 3 6\n"
     ]
    }
   ],
   "source": [
    "x = np.arange(48).reshape(6, 2, 4)\n",
    "print(x)\n",
    "print(x.shape, x.size, x.ndim, len(x))"
   ]
  },
  {
   "cell_type": "code",
   "execution_count": 42,
   "metadata": {},
   "outputs": [
    {
     "name": "stdout",
     "output_type": "stream",
     "text": [
      "[[[24 25 26 27]\n",
      "  [28 29 30 31]]\n",
      "\n",
      " [[40 41 42 43]\n",
      "  [44 45 46 47]]] \n",
      "------------------------------------------------------------\n",
      "\n",
      "[[ 8  9 10 11]\n",
      " [12 13 14 15]] \n",
      "------------------------------------------------------------\n",
      "\n",
      "[ 8  9 10 11] \n",
      "------------------------------------------------------------\n",
      "\n",
      "11 \n",
      "------------------------------------------------------------\n",
      "\n"
     ]
    }
   ],
   "source": [
    "print(x[[3, 5]], sepa)\n",
    "print(x[1], sepa)\n",
    "print(x[1][0], sepa)\n",
    "print(x[1][0][3], sepa)\n"
   ]
  },
  {
   "cell_type": "code",
   "execution_count": 43,
   "metadata": {
    "scrolled": false
   },
   "outputs": [
    {
     "name": "stdout",
     "output_type": "stream",
     "text": [
      "[[[ 0  1  2  3]\n",
      "  [ 4  5  6  7]]\n",
      "\n",
      " [[ 8  9 10 11]\n",
      "  [12 13 14 15]]\n",
      "\n",
      " [[16 17 18 19]\n",
      "  [20 21 22 23]]\n",
      "\n",
      " [[24 25 26 27]\n",
      "  [28 29 30 31]]\n",
      "\n",
      " [[32 33 34 35]\n",
      "  [36 37 38 39]]\n",
      "\n",
      " [[40 41 42 43]\n",
      "  [44 45 46 47]]] \n",
      "------------------------------------------------------------\n",
      "\n",
      "1128 sum all \n",
      "------------------------------------------------------------\n",
      "\n",
      "[[120 126 132 138]\n",
      " [144 150 156 162]] sum axis 0 \n",
      "------------------------------------------------------------\n",
      "\n",
      "[[ 4  6  8 10]\n",
      " [20 22 24 26]\n",
      " [36 38 40 42]\n",
      " [52 54 56 58]\n",
      " [68 70 72 74]\n",
      " [84 86 88 90]] sum axis 1 \n",
      "------------------------------------------------------------\n",
      "\n",
      "[[  6  22]\n",
      " [ 38  54]\n",
      " [ 70  86]\n",
      " [102 118]\n",
      " [134 150]\n",
      " [166 182]] sum axis 2 \n",
      "------------------------------------------------------------\n",
      "\n",
      "[264 276 288 300] sum axis 0, 1 \n",
      "------------------------------------------------------------\n",
      "\n",
      "[264 276 288 300] sum axis 1, 0 \n",
      "------------------------------------------------------------\n",
      "\n",
      "[ 28  92 156 220 284 348] sum axis 1, 2 \n",
      "------------------------------------------------------------\n",
      "\n",
      "[ 28  92 156 220 284 348] sum axis 2, 1 \n",
      "------------------------------------------------------------\n",
      "\n",
      "[516 612] sum axis 0, 2 \n",
      "------------------------------------------------------------\n",
      "\n",
      "[516 612] sum axis 2, 0 \n",
      "------------------------------------------------------------\n",
      "\n"
     ]
    }
   ],
   "source": [
    "foo = 0\n",
    "print(x, sepa)\n",
    "print(np.sum(x), 'sum all', sepa)\n",
    "print(np.sum(x, axis=0), 'sum axis 0', sepa)\n",
    "print(np.sum(x, axis=1), 'sum axis 1', sepa)\n",
    "print(np.sum(x, axis=2), 'sum axis 2', sepa)\n",
    "print(np.sum(x, axis=(0, 1)), 'sum axis 0, 1', sepa)\n",
    "print(np.sum(x, axis=(0, 1)), 'sum axis 1, 0', sepa)\n",
    "print(np.sum(x, axis=(1, 2)), 'sum axis 1, 2', sepa)\n",
    "print(np.sum(x, axis=(2, 1)), 'sum axis 2, 1', sepa)\n",
    "print(np.sum(x, axis=(0, 2)), 'sum axis 0, 2', sepa)\n",
    "print(np.sum(x, axis=(2, 0)), 'sum axis 2, 0', sepa)"
   ]
  },
  {
   "cell_type": "code",
   "execution_count": 44,
   "metadata": {},
   "outputs": [],
   "source": [
    "## linalg"
   ]
  },
  {
   "cell_type": "code",
   "execution_count": 45,
   "metadata": {},
   "outputs": [
    {
     "name": "stdout",
     "output_type": "stream",
     "text": [
      "[[8. 5. 5.]\n",
      " [5. 8. 5.]\n",
      " [5. 5. 8.]]\n",
      "161.99999999999994\n",
      "[[ 0.24074074 -0.09259259 -0.09259259]\n",
      " [-0.09259259  0.24074074 -0.09259259]\n",
      " [-0.09259259 -0.09259259  0.24074074]]\n",
      "[[1.00000000e+00 0.00000000e+00 0.00000000e+00]\n",
      " [5.55111512e-17 1.00000000e+00 0.00000000e+00]\n",
      " [1.11022302e-16 0.00000000e+00 1.00000000e+00]]\n"
     ]
    }
   ],
   "source": [
    "from numpy import linalg as npl\n",
    "a = 3*np.eye(3) + 5 \n",
    "a_inv = npl.inv(a)\n",
    "print(a)\n",
    "print(npl.det(a))\n",
    "print(a_inv)\n",
    "print(a.dot(a_inv))"
   ]
  },
  {
   "cell_type": "code",
   "execution_count": 46,
   "metadata": {},
   "outputs": [
    {
     "name": "stdout",
     "output_type": "stream",
     "text": [
      "[[1 2 3]\n",
      " [4 5 6]\n",
      " [2 4 6]]\n",
      "0.0\n",
      "Singular matrix\n"
     ]
    }
   ],
   "source": [
    "singular_matrix = np.array([[1, 2, 3], [4, 5, 6], [2, 4, 6]])\n",
    "print(singular_matrix)\n",
    "print(npl.det(singular_matrix))\n",
    "try:\n",
    "    print(npl.inv(singular_matrix))\n",
    "except npl.LinAlgError as err:\n",
    "    if 'Singular matrix' in str(err):\n",
    "        print(err)\n",
    "    else:\n",
    "        raise"
   ]
  },
  {
   "cell_type": "code",
   "execution_count": 47,
   "metadata": {},
   "outputs": [],
   "source": [
    "## System algebraitic equation linear solving"
   ]
  },
  {
   "cell_type": "code",
   "execution_count": 48,
   "metadata": {},
   "outputs": [
    {
     "name": "stdout",
     "output_type": "stream",
     "text": [
      "[[2. 1. 1.]\n",
      " [1. 2. 1.]\n",
      " [1. 1. 2.]]\n",
      "[5 7 3] \n",
      "------------------------------------------------------------\n",
      "\n",
      "[ 1.25  3.25 -0.75]\n",
      "[ 1.25  3.25 -0.75]\n"
     ]
    }
   ],
   "source": [
    "b = np.array([5, -10])\n",
    "a = np.array([[2, 1], [2, 3]])\n",
    "a = np.eye(3) + 1\n",
    "b = np.array([5, 7, 3])\n",
    "print(a)\n",
    "print(b, sepa)\n",
    "print(npl.solve(a, b))\n",
    "print(npl.inv(a) @ b)"
   ]
  },
  {
   "cell_type": "code",
   "execution_count": 55,
   "metadata": {},
   "outputs": [
    {
     "name": "stdout",
     "output_type": "stream",
     "text": [
      "Object `???????????????????` not found.\n"
     ]
    }
   ],
   "source": [
    "## Selfie vectors and values $A \\prod x = \\lambda \\prod x$, \n",
    "## where x is eigen vector and \\lambda eigen value for x for matrix A \n",
    "?????????????????????"
   ]
  },
  {
   "cell_type": "code",
   "execution_count": 56,
   "metadata": {},
   "outputs": [
    {
     "name": "stdout",
     "output_type": "stream",
     "text": [
      "\n",
      "------------------------------------------------------------\n",
      "\n",
      "unsingular matrix eigens\n",
      "[1. 4. 1.]\n",
      "[[-0.81649658  0.57735027 -0.32444284]\n",
      " [ 0.40824829  0.57735027 -0.48666426]\n",
      " [ 0.40824829  0.57735027  0.81110711]]\n",
      "[-1.38008573  0.01376112 -0.888032  ]\n",
      "\n",
      "------------------------------------------------------------\n",
      "\n",
      "identity matrix eigens \n",
      "[1. 1. 1.]\n",
      "[[1. 0. 0.]\n",
      " [0. 1. 0.]\n",
      " [0. 0. 1.]]\n",
      "\n",
      "------------------------------------------------------------\n",
      "\n",
      "singular matrix eigens \n",
      "[1.17445626e+01 1.68430146e-15 2.55437353e-01]\n",
      "[[-0.30674675 -0.40824829  0.24714134]\n",
      " [-0.72768959  0.81649658 -0.83343013]\n",
      " [-0.61349351 -0.40824829  0.49428268]]\n"
     ]
    }
   ],
   "source": [
    "print(sepa, 'unsingular matrix eigens', *npl.eig(a), sep='\\n')\n",
    "l, v = npl.eig(a)\n",
    "print(a @ v[0])\n",
    "print(sepa, 'identity matrix eigens ', *npl.eig(np.eye(3)), sep='\\n')\n",
    "print(sepa, 'singular matrix eigens ', *npl.eig(singular_matrix), sep='\\n')"
   ]
  },
  {
   "cell_type": "code",
   "execution_count": null,
   "metadata": {},
   "outputs": [],
   "source": []
  },
  {
   "cell_type": "code",
   "execution_count": null,
   "metadata": {},
   "outputs": [],
   "source": []
  },
  {
   "cell_type": "code",
   "execution_count": null,
   "metadata": {},
   "outputs": [],
   "source": []
  },
  {
   "cell_type": "code",
   "execution_count": null,
   "metadata": {},
   "outputs": [],
   "source": []
  },
  {
   "cell_type": "code",
   "execution_count": null,
   "metadata": {},
   "outputs": [],
   "source": []
  },
  {
   "cell_type": "code",
   "execution_count": null,
   "metadata": {},
   "outputs": [],
   "source": []
  },
  {
   "cell_type": "code",
   "execution_count": null,
   "metadata": {},
   "outputs": [],
   "source": []
  },
  {
   "cell_type": "code",
   "execution_count": null,
   "metadata": {},
   "outputs": [],
   "source": []
  },
  {
   "cell_type": "code",
   "execution_count": null,
   "metadata": {},
   "outputs": [],
   "source": []
  },
  {
   "cell_type": "code",
   "execution_count": null,
   "metadata": {},
   "outputs": [],
   "source": []
  },
  {
   "cell_type": "code",
   "execution_count": null,
   "metadata": {},
   "outputs": [],
   "source": []
  },
  {
   "cell_type": "code",
   "execution_count": null,
   "metadata": {},
   "outputs": [],
   "source": []
  },
  {
   "cell_type": "code",
   "execution_count": null,
   "metadata": {},
   "outputs": [],
   "source": []
  },
  {
   "cell_type": "code",
   "execution_count": null,
   "metadata": {},
   "outputs": [],
   "source": []
  },
  {
   "cell_type": "code",
   "execution_count": null,
   "metadata": {},
   "outputs": [],
   "source": []
  }
 ],
 "metadata": {
  "kernelspec": {
   "display_name": "Python 3",
   "language": "python",
   "name": "python3"
  },
  "language_info": {
   "codemirror_mode": {
    "name": "ipython",
    "version": 3
   },
   "file_extension": ".py",
   "mimetype": "text/x-python",
   "name": "python",
   "nbconvert_exporter": "python",
   "pygments_lexer": "ipython3",
   "version": "3.8.8"
  }
 },
 "nbformat": 4,
 "nbformat_minor": 2
}
