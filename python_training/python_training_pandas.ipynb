{
 "cells": [
  {
   "cell_type": "code",
   "execution_count": 71,
   "id": "d309ce55",
   "metadata": {},
   "outputs": [],
   "source": [
    "import numpy as np\n",
    "import pandas as pd\n",
    "sepa = '\\n' + '-'*60 + '\\n'"
   ]
  },
  {
   "cell_type": "code",
   "execution_count": 3,
   "id": "6d489c89",
   "metadata": {},
   "outputs": [
    {
     "name": "stdout",
     "output_type": "stream",
     "text": [
      "0     1.0\n",
      "1     2.0\n",
      "2     3.0\n",
      "3     NaN\n",
      "4    10.0\n",
      "5     3.0\n",
      "dtype: float64\n"
     ]
    }
   ],
   "source": [
    "arr = [1, 2, 3.0, np.nan, 10.0, 3]\n",
    "ser_pd = pd.Series(arr)\n",
    "print(ser_pd)"
   ]
  },
  {
   "cell_type": "code",
   "execution_count": 13,
   "id": "bc1eb0e3",
   "metadata": {},
   "outputs": [
    {
     "name": "stdout",
     "output_type": "stream",
     "text": [
      "2.0\n",
      "2.0\n"
     ]
    }
   ],
   "source": [
    "print(ser_pd_wit_keys['second'])\n",
    "print(ser_pd_wit_keys[1])"
   ]
  },
  {
   "cell_type": "code",
   "execution_count": 31,
   "id": "b8ad231c",
   "metadata": {},
   "outputs": [],
   "source": [
    "## Indecing"
   ]
  },
  {
   "cell_type": "code",
   "execution_count": 32,
   "id": "04950e75",
   "metadata": {},
   "outputs": [
    {
     "name": "stdout",
     "output_type": "stream",
     "text": [
      "first      1.0\n",
      "second     2.0\n",
      "thrid      3.0\n",
      "four       NaN\n",
      "five      10.0\n",
      "six        3.0\n",
      "dtype: float64\n"
     ]
    }
   ],
   "source": [
    "idx_names = ['first', 'second', 'thrid', 'four', 'five', 'six']\n",
    "ser_pd_wit_keys = pd.Series(arr, index=idx_names)\n",
    "print(ser_pd_wit_keys)"
   ]
  },
  {
   "cell_type": "code",
   "execution_count": 33,
   "id": "aa6239b9",
   "metadata": {},
   "outputs": [],
   "source": [
    "## What if keys and indexes both are int"
   ]
  },
  {
   "cell_type": "code",
   "execution_count": 75,
   "id": "1b62cf0d",
   "metadata": {},
   "outputs": [
    {
     "name": "stdout",
     "output_type": "stream",
     "text": [
      "1     1.0\n",
      "2     2.0\n",
      "3     3.0\n",
      "4     NaN\n",
      "5    10.0\n",
      "6     3.0\n",
      "Name: Keys, dtype: float64\n",
      "1.0\n",
      "\n",
      "------------------------------------------------------------\n",
      "\n",
      "0     1.0\n",
      "1     2.0\n",
      "2     3.0\n",
      "3     NaN\n",
      "4    10.0\n",
      "5     3.0\n",
      "Name: Idx, dtype: float64\n",
      "2.0\n"
     ]
    }
   ],
   "source": [
    "keys = [1, 2, 3, 4, 5, 6]\n",
    "series_keys = pd.Series(arr, index=keys, name='Keys')\n",
    "series_idx = pd.Series(arr, name='Idx')\n",
    "print(series_keys)\n",
    "print(series_keys[1])\n",
    "print(sepa)\n",
    "print(series_idx)\n",
    "print(series_idx[1])"
   ]
  },
  {
   "cell_type": "code",
   "execution_count": 76,
   "id": "58201c26",
   "metadata": {},
   "outputs": [
    {
     "name": "stdout",
     "output_type": "stream",
     "text": [
      "5     3.0\n",
      "4    10.0\n",
      "3     NaN\n",
      "2     3.0\n",
      "1     2.0\n",
      "0     1.0\n",
      "Name: Idx, dtype: float64\n",
      "6     3.0\n",
      "5    10.0\n",
      "4     NaN\n",
      "3     3.0\n",
      "2     2.0\n",
      "1     1.0\n",
      "Name: Keys, dtype: float64\n"
     ]
    }
   ],
   "source": [
    "print(series_idx[::-1])\n",
    "print(series_keys[::-1])"
   ]
  },
  {
   "cell_type": "code",
   "execution_count": 77,
   "id": "6c9032eb",
   "metadata": {},
   "outputs": [
    {
     "name": "stdout",
     "output_type": "stream",
     "text": [
      "1    2.0\n",
      "2    3.0\n",
      "Name: Idx, dtype: float64\n",
      "2    2.0\n",
      "3    3.0\n",
      "Name: Keys, dtype: float64\n",
      "second    2.0\n",
      "thrid     3.0\n",
      "dtype: float64\n",
      "second    2.0\n",
      "thrid     3.0\n",
      "four      NaN\n",
      "dtype: float64\n"
     ]
    }
   ],
   "source": [
    "print(series_idx[1:3])\n",
    "print(series_keys[1:3])\n",
    "print(ser_pd_wit_keys[1:3])\n",
    "print(ser_pd_wit_keys['second':'four'])"
   ]
  },
  {
   "cell_type": "code",
   "execution_count": 78,
   "id": "552a8e71",
   "metadata": {},
   "outputs": [
    {
     "name": "stdout",
     "output_type": "stream",
     "text": [
      "DatetimeIndex(['2019-01-01', '2019-01-02', '2019-01-03', '2019-01-04',\n",
      "               '2019-01-05', '2019-01-06', '2019-01-07', '2019-01-08',\n",
      "               '2019-01-09', '2019-01-10', '2019-01-11', '2019-01-12',\n",
      "               '2019-01-13', '2019-01-14', '2019-01-15'],\n",
      "              dtype='datetime64[ns]', freq='D') \n",
      "------------------------------------------------------------\n",
      "\n",
      "2019-01-01    0.449916\n",
      "2019-01-02    0.418513\n",
      "2019-01-03    0.996605\n",
      "2019-01-04    0.987797\n",
      "2019-01-05    0.227772\n",
      "2019-01-06    0.391993\n",
      "2019-01-07    0.637821\n",
      "2019-01-08    0.430453\n",
      "2019-01-09    0.576520\n",
      "2019-01-10    0.256150\n",
      "2019-01-11    0.816394\n",
      "2019-01-12    0.944837\n",
      "2019-01-13    0.878223\n",
      "2019-01-14    0.934692\n",
      "2019-01-15    0.775400\n",
      "Freq: D, dtype: float64\n"
     ]
    }
   ],
   "source": [
    "date_range = pd.date_range('20190101', periods=15)\n",
    "random_series = pd.Series(np.random.rand(15), index=date_range)\n",
    "print(date_range, sepa)\n",
    "print(random_series)"
   ]
  },
  {
   "cell_type": "code",
   "execution_count": 79,
   "id": "3bf130f7",
   "metadata": {},
   "outputs": [
    {
     "name": "stdout",
     "output_type": "stream",
     "text": [
      "2019-01-15     True\n",
      "2019-01-14     True\n",
      "2019-01-13     True\n",
      "2019-01-12     True\n",
      "2019-01-11     True\n",
      "2019-01-10    False\n",
      "2019-01-09     True\n",
      "2019-01-08     True\n",
      "2019-01-07     True\n",
      "2019-01-06     True\n",
      "2019-01-05    False\n",
      "2019-01-04     True\n",
      "2019-01-03     True\n",
      "2019-01-02     True\n",
      "2019-01-01     True\n",
      "Freq: -1D, dtype: bool \n",
      "------------------------------------------------------------\n",
      "\n",
      "2019-01-01    0.449916\n",
      "2019-01-02    0.418513\n",
      "2019-01-03    0.996605\n",
      "2019-01-04    0.987797\n",
      "2019-01-06    0.391993\n",
      "2019-01-07    0.637821\n",
      "2019-01-08    0.430453\n",
      "2019-01-09    0.576520\n",
      "2019-01-11    0.816394\n",
      "2019-01-12    0.944837\n",
      "2019-01-13    0.878223\n",
      "2019-01-14    0.934692\n",
      "2019-01-15    0.775400\n",
      "dtype: float64\n",
      "2019-01-01    0.449916\n",
      "2019-01-02    0.418513\n",
      "2019-01-06    0.391993\n",
      "2019-01-08    0.430453\n",
      "dtype: float64\n"
     ]
    }
   ],
   "source": [
    "print((random_series > .3)[::-1], sepa)\n",
    "print(random_series[random_series > .3])\n",
    "print(random_series[(random_series > .3) & (random_series < .5)])"
   ]
  },
  {
   "cell_type": "code",
   "execution_count": 80,
   "id": "63ea93aa",
   "metadata": {},
   "outputs": [
    {
     "name": "stdout",
     "output_type": "stream",
     "text": [
      "2019-01-01    0.449916\n",
      "2019-01-02    0.418513\n",
      "2019-01-03    0.996605\n",
      "2019-01-04    0.987797\n",
      "2019-01-05    0.227772\n",
      "2019-01-06    0.391993\n",
      "2019-01-07    0.637821\n",
      "2019-01-08    0.430453\n",
      "2019-01-09    0.576520\n",
      "2019-01-10    0.256150\n",
      "2019-01-11    0.816394\n",
      "2019-01-12    0.944837\n",
      "2019-01-13    0.878223\n",
      "2019-01-14    0.934692\n",
      "2019-01-15    0.775400\n",
      "Freq: D, dtype: float64 \n",
      "------------------------------------------------------------\n",
      "\n",
      "2019-01-05    0.227772\n",
      "2019-01-10    0.256150\n",
      "2019-01-06    0.391993\n",
      "2019-01-02    0.418513\n",
      "2019-01-08    0.430453\n",
      "2019-01-01    0.449916\n",
      "2019-01-09    0.576520\n",
      "2019-01-07    0.637821\n",
      "2019-01-15    0.775400\n",
      "2019-01-11    0.816394\n",
      "2019-01-13    0.878223\n",
      "2019-01-14    0.934692\n",
      "2019-01-12    0.944837\n",
      "2019-01-04    0.987797\n",
      "2019-01-03    0.996605\n",
      "dtype: float64\n"
     ]
    }
   ],
   "source": [
    "print(random_series.sort_index(), sepa)\n",
    "print(random_series.sort_values())"
   ]
  },
  {
   "cell_type": "code",
   "execution_count": 83,
   "id": "1e6c5d64",
   "metadata": {},
   "outputs": [
    {
     "name": "stdout",
     "output_type": "stream",
     "text": [
      "2019-01-01    44.991552\n",
      "2019-01-02    41.851341\n",
      "2019-01-03    99.660505\n",
      "2019-01-04    98.779708\n",
      "2019-01-05    22.777201\n",
      "2019-01-06    39.199295\n",
      "2019-01-07    63.782135\n",
      "2019-01-08    43.045270\n",
      "2019-01-09    57.651989\n",
      "2019-01-10    25.615023\n",
      "2019-01-11    81.639425\n",
      "2019-01-12    94.483682\n",
      "2019-01-13    87.822323\n",
      "2019-01-14    93.469234\n",
      "2019-01-15    77.540006\n",
      "Freq: D, dtype: float64 \n",
      "------------------------------------------------------------\n",
      "\n",
      "2019-01-01    1.568180\n",
      "2019-01-02    1.519701\n",
      "2019-01-03    2.709069\n",
      "2019-01-04    2.685312\n",
      "2019-01-05    1.255799\n",
      "2019-01-06    1.479927\n",
      "2019-01-07    1.892354\n",
      "2019-01-08    1.537954\n",
      "2019-01-09    1.779834\n",
      "2019-01-10    1.291947\n",
      "2019-01-11    2.262328\n",
      "2019-01-12    2.572394\n",
      "2019-01-13    2.406620\n",
      "2019-01-14    2.546430\n",
      "2019-01-15    2.171461\n",
      "Freq: D, dtype: float64\n"
     ]
    }
   ],
   "source": [
    "print(random_series * 100, sepa)\n",
    "print(np.exp(random_series))\n"
   ]
  },
  {
   "cell_type": "code",
   "execution_count": 89,
   "id": "2efd5970",
   "metadata": {},
   "outputs": [
    {
     "name": "stdout",
     "output_type": "stream",
     "text": [
      "0    59\n",
      "1    20\n",
      "2    45\n",
      "3    55\n",
      "4    90\n",
      "dtype: int64 \n",
      "------------------------------------------------------------\n",
      "\n",
      "0    70\n",
      "1    13\n",
      "2    21\n",
      "3    58\n",
      "4    98\n",
      "5    80\n",
      "6    34\n",
      "7    14\n",
      "dtype: int64 \n",
      "------------------------------------------------------------\n",
      "\n",
      "0    129.0\n",
      "1     33.0\n",
      "2     66.0\n",
      "3    113.0\n",
      "4    188.0\n",
      "5      NaN\n",
      "6      NaN\n",
      "7      NaN\n",
      "dtype: float64\n",
      "(5,)\n"
     ]
    }
   ],
   "source": [
    "series1 = pd.Series(np.random.randint(0, 10, 5) + 10 * np.random.randint(0, 10, 5))\n",
    "series2 = pd.Series(np.random.randint(0, 10, 8) + 10 * np.random.randint(0, 10, 8))\n",
    "print(series1, sepa)\n",
    "print(series2, sepa)\n",
    "print(series1 + series2)\n",
    "print(series1.shape)"
   ]
  }
 ],
 "metadata": {
  "kernelspec": {
   "display_name": "Python 3",
   "language": "python",
   "name": "python3"
  },
  "language_info": {
   "codemirror_mode": {
    "name": "ipython",
    "version": 3
   },
   "file_extension": ".py",
   "mimetype": "text/x-python",
   "name": "python",
   "nbconvert_exporter": "python",
   "pygments_lexer": "ipython3",
   "version": "3.8.8"
  }
 },
 "nbformat": 4,
 "nbformat_minor": 5
}
