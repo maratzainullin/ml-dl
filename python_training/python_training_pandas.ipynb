{
 "cells": [
  {
   "cell_type": "code",
   "execution_count": 371,
   "id": "25f91247",
   "metadata": {},
   "outputs": [],
   "source": [
    "import numpy as np\n",
    "import pandas as pd\n",
    "sepa = '\\n' + '-'*80 + '\\n'"
   ]
  },
  {
   "cell_type": "code",
   "execution_count": 3,
   "id": "0185d23e",
   "metadata": {},
   "outputs": [
    {
     "name": "stdout",
     "output_type": "stream",
     "text": [
      "0     1.0\n",
      "1     2.0\n",
      "2     3.0\n",
      "3     NaN\n",
      "4    10.0\n",
      "5     3.0\n",
      "dtype: float64\n"
     ]
    }
   ],
   "source": [
    "arr = [1, 2, 3.0, np.nan, 10.0, 3]\n",
    "ser_pd = pd.Series(arr)\n",
    "print(ser_pd)"
   ]
  },
  {
   "cell_type": "code",
   "execution_count": 13,
   "id": "09990a5a",
   "metadata": {},
   "outputs": [
    {
     "name": "stdout",
     "output_type": "stream",
     "text": [
      "2.0\n",
      "2.0\n"
     ]
    }
   ],
   "source": [
    "print(ser_pd_wit_keys['second'])\n",
    "print(ser_pd_wit_keys[1])"
   ]
  },
  {
   "cell_type": "code",
   "execution_count": 31,
   "id": "79961c37",
   "metadata": {},
   "outputs": [],
   "source": [
    "## Indecing"
   ]
  },
  {
   "cell_type": "code",
   "execution_count": 32,
   "id": "57711625",
   "metadata": {},
   "outputs": [
    {
     "name": "stdout",
     "output_type": "stream",
     "text": [
      "first      1.0\n",
      "second     2.0\n",
      "thrid      3.0\n",
      "four       NaN\n",
      "five      10.0\n",
      "six        3.0\n",
      "dtype: float64\n"
     ]
    }
   ],
   "source": [
    "idx_names = ['first', 'second', 'thrid', 'four', 'five', 'six']\n",
    "ser_pd_wit_keys = pd.Series(arr, index=idx_names)\n",
    "print(ser_pd_wit_keys)"
   ]
  },
  {
   "cell_type": "code",
   "execution_count": 33,
   "id": "dae60293",
   "metadata": {},
   "outputs": [],
   "source": [
    "## What if keys and indexes both are int"
   ]
  },
  {
   "cell_type": "code",
   "execution_count": 75,
   "id": "a6761c3c",
   "metadata": {},
   "outputs": [
    {
     "name": "stdout",
     "output_type": "stream",
     "text": [
      "1     1.0\n",
      "2     2.0\n",
      "3     3.0\n",
      "4     NaN\n",
      "5    10.0\n",
      "6     3.0\n",
      "Name: Keys, dtype: float64\n",
      "1.0\n",
      "\n",
      "------------------------------------------------------------\n",
      "\n",
      "0     1.0\n",
      "1     2.0\n",
      "2     3.0\n",
      "3     NaN\n",
      "4    10.0\n",
      "5     3.0\n",
      "Name: Idx, dtype: float64\n",
      "2.0\n"
     ]
    }
   ],
   "source": [
    "keys = [1, 2, 3, 4, 5, 6]\n",
    "series_keys = pd.Series(arr, index=keys, name='Keys')\n",
    "series_idx = pd.Series(arr, name='Idx')\n",
    "print(series_keys)\n",
    "print(series_keys[1])\n",
    "print(sepa)\n",
    "print(series_idx)\n",
    "print(series_idx[1])"
   ]
  },
  {
   "cell_type": "code",
   "execution_count": 76,
   "id": "98835d03",
   "metadata": {},
   "outputs": [
    {
     "name": "stdout",
     "output_type": "stream",
     "text": [
      "5     3.0\n",
      "4    10.0\n",
      "3     NaN\n",
      "2     3.0\n",
      "1     2.0\n",
      "0     1.0\n",
      "Name: Idx, dtype: float64\n",
      "6     3.0\n",
      "5    10.0\n",
      "4     NaN\n",
      "3     3.0\n",
      "2     2.0\n",
      "1     1.0\n",
      "Name: Keys, dtype: float64\n"
     ]
    }
   ],
   "source": [
    "print(series_idx[::-1])\n",
    "print(series_keys[::-1])"
   ]
  },
  {
   "cell_type": "code",
   "execution_count": 77,
   "id": "dbcd1fab",
   "metadata": {},
   "outputs": [
    {
     "name": "stdout",
     "output_type": "stream",
     "text": [
      "1    2.0\n",
      "2    3.0\n",
      "Name: Idx, dtype: float64\n",
      "2    2.0\n",
      "3    3.0\n",
      "Name: Keys, dtype: float64\n",
      "second    2.0\n",
      "thrid     3.0\n",
      "dtype: float64\n",
      "second    2.0\n",
      "thrid     3.0\n",
      "four      NaN\n",
      "dtype: float64\n"
     ]
    }
   ],
   "source": [
    "print(series_idx[1:3])\n",
    "print(series_keys[1:3])\n",
    "print(ser_pd_wit_keys[1:3])\n",
    "print(ser_pd_wit_keys['second':'four'])"
   ]
  },
  {
   "cell_type": "code",
   "execution_count": 78,
   "id": "0e40ab74",
   "metadata": {},
   "outputs": [
    {
     "name": "stdout",
     "output_type": "stream",
     "text": [
      "DatetimeIndex(['2019-01-01', '2019-01-02', '2019-01-03', '2019-01-04',\n",
      "               '2019-01-05', '2019-01-06', '2019-01-07', '2019-01-08',\n",
      "               '2019-01-09', '2019-01-10', '2019-01-11', '2019-01-12',\n",
      "               '2019-01-13', '2019-01-14', '2019-01-15'],\n",
      "              dtype='datetime64[ns]', freq='D') \n",
      "------------------------------------------------------------\n",
      "\n",
      "2019-01-01    0.449916\n",
      "2019-01-02    0.418513\n",
      "2019-01-03    0.996605\n",
      "2019-01-04    0.987797\n",
      "2019-01-05    0.227772\n",
      "2019-01-06    0.391993\n",
      "2019-01-07    0.637821\n",
      "2019-01-08    0.430453\n",
      "2019-01-09    0.576520\n",
      "2019-01-10    0.256150\n",
      "2019-01-11    0.816394\n",
      "2019-01-12    0.944837\n",
      "2019-01-13    0.878223\n",
      "2019-01-14    0.934692\n",
      "2019-01-15    0.775400\n",
      "Freq: D, dtype: float64\n"
     ]
    }
   ],
   "source": [
    "date_range = pd.date_range('20190101', periods=15)\n",
    "random_series = pd.Series(np.random.rand(15), index=date_range)\n",
    "print(date_range, sepa)\n",
    "print(random_series)"
   ]
  },
  {
   "cell_type": "code",
   "execution_count": 79,
   "id": "ee5b54f9",
   "metadata": {},
   "outputs": [
    {
     "name": "stdout",
     "output_type": "stream",
     "text": [
      "2019-01-15     True\n",
      "2019-01-14     True\n",
      "2019-01-13     True\n",
      "2019-01-12     True\n",
      "2019-01-11     True\n",
      "2019-01-10    False\n",
      "2019-01-09     True\n",
      "2019-01-08     True\n",
      "2019-01-07     True\n",
      "2019-01-06     True\n",
      "2019-01-05    False\n",
      "2019-01-04     True\n",
      "2019-01-03     True\n",
      "2019-01-02     True\n",
      "2019-01-01     True\n",
      "Freq: -1D, dtype: bool \n",
      "------------------------------------------------------------\n",
      "\n",
      "2019-01-01    0.449916\n",
      "2019-01-02    0.418513\n",
      "2019-01-03    0.996605\n",
      "2019-01-04    0.987797\n",
      "2019-01-06    0.391993\n",
      "2019-01-07    0.637821\n",
      "2019-01-08    0.430453\n",
      "2019-01-09    0.576520\n",
      "2019-01-11    0.816394\n",
      "2019-01-12    0.944837\n",
      "2019-01-13    0.878223\n",
      "2019-01-14    0.934692\n",
      "2019-01-15    0.775400\n",
      "dtype: float64\n",
      "2019-01-01    0.449916\n",
      "2019-01-02    0.418513\n",
      "2019-01-06    0.391993\n",
      "2019-01-08    0.430453\n",
      "dtype: float64\n"
     ]
    }
   ],
   "source": [
    "print((random_series > .3)[::-1], sepa)\n",
    "print(random_series[random_series > .3])\n",
    "print(random_series[(random_series > .3) & (random_series < .5)])"
   ]
  },
  {
   "cell_type": "code",
   "execution_count": 80,
   "id": "3a8fe0ad",
   "metadata": {},
   "outputs": [
    {
     "name": "stdout",
     "output_type": "stream",
     "text": [
      "2019-01-01    0.449916\n",
      "2019-01-02    0.418513\n",
      "2019-01-03    0.996605\n",
      "2019-01-04    0.987797\n",
      "2019-01-05    0.227772\n",
      "2019-01-06    0.391993\n",
      "2019-01-07    0.637821\n",
      "2019-01-08    0.430453\n",
      "2019-01-09    0.576520\n",
      "2019-01-10    0.256150\n",
      "2019-01-11    0.816394\n",
      "2019-01-12    0.944837\n",
      "2019-01-13    0.878223\n",
      "2019-01-14    0.934692\n",
      "2019-01-15    0.775400\n",
      "Freq: D, dtype: float64 \n",
      "------------------------------------------------------------\n",
      "\n",
      "2019-01-05    0.227772\n",
      "2019-01-10    0.256150\n",
      "2019-01-06    0.391993\n",
      "2019-01-02    0.418513\n",
      "2019-01-08    0.430453\n",
      "2019-01-01    0.449916\n",
      "2019-01-09    0.576520\n",
      "2019-01-07    0.637821\n",
      "2019-01-15    0.775400\n",
      "2019-01-11    0.816394\n",
      "2019-01-13    0.878223\n",
      "2019-01-14    0.934692\n",
      "2019-01-12    0.944837\n",
      "2019-01-04    0.987797\n",
      "2019-01-03    0.996605\n",
      "dtype: float64\n"
     ]
    }
   ],
   "source": [
    "print(random_series.sort_index(), sepa)\n",
    "print(random_series.sort_values())"
   ]
  },
  {
   "cell_type": "code",
   "execution_count": 83,
   "id": "33f570dd",
   "metadata": {},
   "outputs": [
    {
     "name": "stdout",
     "output_type": "stream",
     "text": [
      "2019-01-01    44.991552\n",
      "2019-01-02    41.851341\n",
      "2019-01-03    99.660505\n",
      "2019-01-04    98.779708\n",
      "2019-01-05    22.777201\n",
      "2019-01-06    39.199295\n",
      "2019-01-07    63.782135\n",
      "2019-01-08    43.045270\n",
      "2019-01-09    57.651989\n",
      "2019-01-10    25.615023\n",
      "2019-01-11    81.639425\n",
      "2019-01-12    94.483682\n",
      "2019-01-13    87.822323\n",
      "2019-01-14    93.469234\n",
      "2019-01-15    77.540006\n",
      "Freq: D, dtype: float64 \n",
      "------------------------------------------------------------\n",
      "\n",
      "2019-01-01    1.568180\n",
      "2019-01-02    1.519701\n",
      "2019-01-03    2.709069\n",
      "2019-01-04    2.685312\n",
      "2019-01-05    1.255799\n",
      "2019-01-06    1.479927\n",
      "2019-01-07    1.892354\n",
      "2019-01-08    1.537954\n",
      "2019-01-09    1.779834\n",
      "2019-01-10    1.291947\n",
      "2019-01-11    2.262328\n",
      "2019-01-12    2.572394\n",
      "2019-01-13    2.406620\n",
      "2019-01-14    2.546430\n",
      "2019-01-15    2.171461\n",
      "Freq: D, dtype: float64\n"
     ]
    }
   ],
   "source": [
    "print(random_series * 100, sepa)\n",
    "print(np.exp(random_series))\n"
   ]
  },
  {
   "cell_type": "code",
   "execution_count": 90,
   "id": "881bf65c",
   "metadata": {},
   "outputs": [
    {
     "name": "stdout",
     "output_type": "stream",
     "text": [
      "0    95\n",
      "1    28\n",
      "2    70\n",
      "3    33\n",
      "4    33\n",
      "dtype: int64 \n",
      "------------------------------------------------------------\n",
      "\n",
      "0    58\n",
      "1    92\n",
      "2    15\n",
      "3    53\n",
      "4     1\n",
      "5     8\n",
      "6    18\n",
      "7    20\n",
      "dtype: int64 \n",
      "------------------------------------------------------------\n",
      "\n",
      "0    153.0\n",
      "1    120.0\n",
      "2     85.0\n",
      "3     86.0\n",
      "4     34.0\n",
      "5      NaN\n",
      "6      NaN\n",
      "7      NaN\n",
      "dtype: float64\n",
      "(5,)\n"
     ]
    }
   ],
   "source": [
    "series1 = pd.Series(np.random.randint(0, 10, 5) + 10 * np.random.randint(0, 10, 5))\n",
    "series2 = pd.Series(np.random.randint(0, 10, 8) + 10 * np.random.randint(0, 10, 8))\n",
    "print(series1, sepa)\n",
    "print(series2, sepa)\n",
    "print(series1 + series2)\n",
    "print(series1.shape)"
   ]
  },
  {
   "cell_type": "markdown",
   "id": "ecb6aef6",
   "metadata": {},
   "source": [
    "## pd.DataFrame"
   ]
  },
  {
   "cell_type": "code",
   "execution_count": 130,
   "id": "614cb712",
   "metadata": {},
   "outputs": [
    {
     "name": "stdout",
     "output_type": "stream",
     "text": [
      "   first  second     third\n",
      "a      1       5  0.140128\n",
      "b      2       4  0.245386\n",
      "c      3       3  0.558765\n",
      "d      4       2  0.118241\n",
      "e      5       1  0.393320\n"
     ]
    }
   ],
   "source": [
    "my_dict = {\n",
    "    'first': np.array([1, 2, 3, 4, 5]),\n",
    "    'second': np.arange(5, 0, -1),\n",
    "    'third': np.random.rand(5)\n",
    "}\n",
    "\n",
    "my_df = pd.DataFrame(my_dict, index='a b c d e'.split())\n",
    "print(my_df)"
   ]
  },
  {
   "cell_type": "code",
   "execution_count": 111,
   "id": "4af8780b",
   "metadata": {},
   "outputs": [
    {
     "name": "stdout",
     "output_type": "stream",
     "text": [
      "   first  second     third\n",
      "a      1       5  0.461853\n",
      "b      2       4  0.543964\n",
      "c      3       3  0.777339\n",
      "d      4       2  0.534421\n",
      "e      5       1  0.146403\n"
     ]
    }
   ],
   "source": [
    "my_dict = {\n",
    "    '1st': pd.Series(np.arange(5, 0, -1), index='a b c d e'.split()),\n",
    "    '2st': pd.Series(np.random.rand(5), index='a b c d e'.split())\n",
    "}\n",
    "mu_df = pd.DataFrame(my_dict)\n",
    "print(my_df)"
   ]
  },
  {
   "cell_type": "code",
   "execution_count": 151,
   "id": "7b276eb8",
   "metadata": {},
   "outputs": [
    {
     "name": "stdout",
     "output_type": "stream",
     "text": [
      "   1st       2st\n",
      "a  5.0  0.974889\n",
      "b  4.0  0.937486\n",
      "c  3.0  0.819958\n",
      "d  2.0  0.748628\n",
      "e  1.0  0.206100\n",
      "f  NaN  0.349469\n",
      "g  NaN  0.712304\n",
      "h  NaN       NaN \n",
      "------------------------------------------------------------\n",
      "\n",
      "   1st       2st\n",
      "b    4  0.937486\n",
      "c    3  0.819958\n",
      "a    5  0.974889\n",
      "d    2  0.748628 \n",
      "------------------------------------------------------------\n",
      "\n",
      "    1st       2st\n",
      "a   5.0  0.974889\n",
      "b1  NaN       NaN\n",
      "c1  NaN       NaN\n",
      "d1  NaN       NaN \n",
      "------------------------------------------------------------\n",
      "\n"
     ]
    }
   ],
   "source": [
    "my_dict = {\n",
    "    '1st': pd.Series(np.arange(5, 0, -1), index='a b c d e'.split()),\n",
    "    '2st': pd.Series(np.random.rand(7), index='a b c d e f g'.split())\n",
    "}\n",
    "my_df = pd.DataFrame(my_dict, index='a b c d e f g h'.split())\n",
    "print(my_df, sepa)\n",
    "my_df = pd.DataFrame(my_dict, index='b c a d'.split())\n",
    "print(my_df, sepa)\n",
    "my_df = pd.DataFrame(my_dict, index='a b1 c1 d1'.split())\n",
    "print(my_df, sepa)"
   ]
  },
  {
   "cell_type": "code",
   "execution_count": 160,
   "id": "e4cd1f9c",
   "metadata": {},
   "outputs": [
    {
     "name": "stdout",
     "output_type": "stream",
     "text": [
      "   1st       2st\n",
      "0  6.0  0.742526\n",
      "1  5.0  0.680054\n",
      "2  4.0  0.804161\n",
      "3  3.0  0.196437\n",
      "4  2.0  0.213586\n",
      "5  1.0  0.802223\n",
      "6  NaN  0.705481\n",
      "7  NaN  0.728579\n",
      "8  NaN  0.809062\n",
      "9  NaN  0.348358 \n",
      "------------------------------------------------------------\n",
      "\n",
      "   first  second     third\n",
      "a      1       5  0.482867\n",
      "b      2       4  0.809061\n",
      "c      3       3  0.693435\n",
      "d      4       2  0.677958\n",
      "e      5       1  0.641811\n"
     ]
    }
   ],
   "source": [
    "my_dict = {\n",
    "    '1st': pd.Series(np.arange(6, 0, -1)),\n",
    "    '2st': pd.Series(np.random.rand(10))\n",
    "}\n",
    "my_df = pd.DataFrame(my_dict)\n",
    "print(my_df, sepa)\n",
    "\n",
    "my_dict = {\n",
    "    'first': np.array([1, 2, 3, 4, 5]),\n",
    "    'second': np.arange(5, 0, -1),\n",
    "    'third': np.random.rand(5)\n",
    "}\n",
    "\n",
    "my_df = pd.DataFrame(my_dict, index='a b c d e'.split())\n",
    "print(my_df)"
   ]
  },
  {
   "cell_type": "code",
   "execution_count": 179,
   "id": "71881c2d",
   "metadata": {},
   "outputs": [
    {
     "name": "stdout",
     "output_type": "stream",
     "text": [
      "a    18\n",
      "b    24\n",
      "c    93\n",
      "d    74\n",
      "e    81\n",
      "dtype: int64 \n",
      "------------------------------------------------------------\n",
      "\n",
      "series[\"c\"]=93 <class 'numpy.int64'> series[2]=93 \n",
      "------------------------------------------------------------\n",
      "\n",
      "a    92\n",
      "a    24\n",
      "c    80\n",
      "c    50\n",
      "e    35\n",
      "dtype: int64 \n",
      "------------------------------------------------------------\n",
      "\n",
      "a    92\n",
      "a    24\n",
      "dtype: int64 \n",
      "------------------------------------------------------------\n",
      " c    80\n",
      "c    50\n",
      "dtype: int64 \n",
      "------------------------------------------------------------\n",
      " 24\n"
     ]
    }
   ],
   "source": [
    "series = pd.Series(np.random.randint(10, 99, 5), index='a b c d e'.split())\n",
    "print(series, sepa)\n",
    "print(f'{series[\"c\"]=}', type(series['a']), f'{series[2]=}', sepa)\n",
    "      \n",
    "series = pd.Series(np.random.randint(10, 99, 5), index='a a c c e'.split())\n",
    "print(series, sepa)\n",
    "print(series['a'], sepa, series['c'], sepa, series[1])"
   ]
  },
  {
   "cell_type": "code",
   "execution_count": 232,
   "id": "df78df4d",
   "metadata": {},
   "outputs": [
    {
     "name": "stdout",
     "output_type": "stream",
     "text": [
      "   1st       2st   3d\n",
      "a  5.0  0.321594  NaN\n",
      "b  4.0  0.976918  NaN\n",
      "c  3.0  0.696366  NaN\n",
      "d  2.0  0.442415  NaN\n",
      "e  1.0  0.096019  NaN\n",
      "f  NaN  0.800762  NaN\n",
      "g  NaN  0.809784  NaN\n",
      "h  NaN       NaN  NaN \n",
      "------------------------------------------------------------\n",
      "\n",
      "a    5.0\n",
      "b    4.0\n",
      "c    3.0\n",
      "d    2.0\n",
      "e    1.0\n",
      "f    NaN\n",
      "g    NaN\n",
      "h    NaN\n",
      "Name: 1st, dtype: float64 \n",
      "------------------------------------------------------------\n",
      "\n",
      "a    5.0\n",
      "b    4.0\n",
      "c    3.0\n",
      "d    2.0\n",
      "e    1.0\n",
      "f    NaN\n",
      "Name: 1st, dtype: float64\n"
     ]
    }
   ],
   "source": [
    "my_dict = {\n",
    "    '1st': pd.Series(np.arange(5, 0, -1), index='a b c d e'.split()),\n",
    "    '2st': pd.Series(np.random.rand(7), index='a b c d e f g'.split())\n",
    "}\n",
    "my_df = pd.DataFrame(my_dict, index='a b c d e f g h'.split(), columns='1st 2st 3d'.split())\n",
    "print(my_df, sepa)\n",
    "print(my_df['1st'], sepa)\n",
    "print(my_df['1st']['a':'f'])"
   ]
  },
  {
   "cell_type": "code",
   "execution_count": 236,
   "id": "7fc629ac",
   "metadata": {},
   "outputs": [
    {
     "name": "stdout",
     "output_type": "stream",
     "text": [
      "[[5.0 0.32159432265376475 nan]\n",
      " [4.0 0.9769175656745724 nan]\n",
      " [3.0 0.6963659685048708 nan]\n",
      " [2.0 0.4424150992065904 nan]\n",
      " [1.0 0.09601926011720119 nan]\n",
      " [nan 0.8007616146031961 nan]\n",
      " [nan 0.8097840922157158 nan]\n",
      " [nan nan nan]]\n",
      "Index(['a', 'b', 'c', 'd', 'e', 'f', 'g', 'h'], dtype='object')\n",
      "Index(['1st', '2st', '3d'], dtype='object')\n"
     ]
    }
   ],
   "source": [
    "print(my_df.values)\n",
    "print(my_df.index)\n",
    "print(my_df.columns)"
   ]
  },
  {
   "cell_type": "code",
   "execution_count": 260,
   "id": "fc7d8526",
   "metadata": {},
   "outputs": [
    {
     "name": "stdout",
     "output_type": "stream",
     "text": [
      "    c1st       c2d  c3d\n",
      "a1   5.0  0.321594  NaN\n",
      "b1   4.0  0.976918  NaN\n",
      "c1   3.0  0.696366  NaN\n",
      "d1   2.0  0.442415  NaN\n",
      "e1   1.0  0.096019  NaN\n",
      "f1   NaN  0.800762  NaN\n",
      "g1   NaN  0.809784  NaN\n",
      "a1   NaN       NaN  NaN\n",
      "a1    5.0\n",
      "a1    NaN\n",
      "Name: c1st, dtype: float64\n"
     ]
    }
   ],
   "source": [
    "my_df.columns = ['c1st', 'c2d', 'c3d']\n",
    "my_df.index = ['a1 b1 c1 d1 e1 f1 g1 a1'.split()]\n",
    "print(my_df)\n",
    "print(my_df['c1st']['a1'])"
   ]
  },
  {
   "cell_type": "markdown",
   "id": "e41526da",
   "metadata": {},
   "source": [
    "## Indexing DataFrame"
   ]
  },
  {
   "cell_type": "markdown",
   "id": "9e8aae9e",
   "metadata": {},
   "source": [
    "### column indexing"
   ]
  },
  {
   "cell_type": "code",
   "execution_count": 263,
   "id": "c0487202",
   "metadata": {},
   "outputs": [
    {
     "name": "stdout",
     "output_type": "stream",
     "text": [
      "    c1st       c2d  c3d\n",
      "a1   5.0  0.321594  NaN\n",
      "b1   4.0  0.976918  NaN\n",
      "c1   3.0  0.696366  NaN\n",
      "d1   2.0  0.442415  NaN\n",
      "e1   1.0  0.096019  NaN\n",
      "f1   NaN  0.800762  NaN\n",
      "g1   NaN  0.809784  NaN\n",
      "a1   NaN       NaN  NaN \n",
      "------------------------------------------------------------\n",
      "\n"
     ]
    }
   ],
   "source": [
    "print(my_df, sepa)"
   ]
  },
  {
   "cell_type": "code",
   "execution_count": 264,
   "id": "216467dd",
   "metadata": {},
   "outputs": [
    {
     "name": "stdout",
     "output_type": "stream",
     "text": [
      "a1    5.0\n",
      "b1    4.0\n",
      "c1    3.0\n",
      "d1    2.0\n",
      "e1    1.0\n",
      "f1    NaN\n",
      "g1    NaN\n",
      "a1    NaN\n",
      "Name: c1st, dtype: float64\n"
     ]
    }
   ],
   "source": [
    "print(my_df['c1st'])"
   ]
  },
  {
   "cell_type": "code",
   "execution_count": 269,
   "id": "752e1f1d",
   "metadata": {},
   "outputs": [
    {
     "name": "stdout",
     "output_type": "stream",
     "text": [
      "a1    5.0\n",
      "b1    4.0\n",
      "c1    3.0\n",
      "d1    2.0\n",
      "e1    1.0\n",
      "f1    NaN\n",
      "g1    NaN\n",
      "a1    NaN\n",
      "Name: c1st, dtype: float64\n"
     ]
    }
   ],
   "source": [
    "print(my_df.c1st)"
   ]
  },
  {
   "cell_type": "code",
   "execution_count": 272,
   "id": "09af42bb",
   "metadata": {},
   "outputs": [
    {
     "name": "stdout",
     "output_type": "stream",
     "text": [
      "    c1st  c3d\n",
      "a1   5.0  NaN\n",
      "b1   4.0  NaN\n",
      "c1   3.0  NaN\n",
      "d1   2.0  NaN\n",
      "e1   1.0  NaN\n",
      "f1   NaN  NaN\n",
      "g1   NaN  NaN\n",
      "a1   NaN  NaN\n"
     ]
    }
   ],
   "source": [
    "print(my_df[['c1st','c3d']])"
   ]
  },
  {
   "cell_type": "code",
   "execution_count": 280,
   "id": "abe62321",
   "metadata": {},
   "outputs": [
    {
     "name": "stdout",
     "output_type": "stream",
     "text": [
      "    c1st       c2d  c3d\n",
      "b1   4.0  0.976918  NaN\n",
      "c1   3.0  0.696366  NaN\n",
      "d1   2.0  0.442415  NaN\n"
     ]
    }
   ],
   "source": [
    "print(my_df[1:4])"
   ]
  },
  {
   "cell_type": "markdown",
   "id": "a67a04de",
   "metadata": {},
   "source": [
    "### row indexing"
   ]
  },
  {
   "cell_type": "code",
   "execution_count": 282,
   "id": "a36cc50b",
   "metadata": {},
   "outputs": [
    {
     "name": "stdout",
     "output_type": "stream",
     "text": [
      "    c1st       c2d  c3d\n",
      "a1   5.0  0.321594  NaN\n",
      "b1   4.0  0.976918  NaN\n",
      "c1   3.0  0.696366  NaN\n",
      "d1   2.0  0.442415  NaN\n",
      "e1   1.0  0.096019  NaN\n",
      "f1   NaN  0.800762  NaN\n",
      "g1   NaN  0.809784  NaN\n",
      "a1   NaN       NaN  NaN\n"
     ]
    }
   ],
   "source": [
    "print(my_df)"
   ]
  },
  {
   "cell_type": "code",
   "execution_count": 300,
   "id": "b6a4ee48",
   "metadata": {},
   "outputs": [
    {
     "name": "stdout",
     "output_type": "stream",
     "text": [
      "    c1st       c2d\n",
      "b1   4.0  0.976918\n",
      "c1   3.0  0.696366\n",
      "d1   2.0  0.442415\n",
      "e1   1.0  0.096019\n",
      "f1   NaN  0.800762\n"
     ]
    }
   ],
   "source": [
    "print(my_df.iloc[1:6:1, 0:2:1])"
   ]
  },
  {
   "cell_type": "code",
   "execution_count": 321,
   "id": "6a3bfbf2",
   "metadata": {},
   "outputs": [
    {
     "name": "stdout",
     "output_type": "stream",
     "text": [
      "    c1st       c2d  c3d\n",
      "a1   5.0  0.321594  NaN\n",
      "b1   4.0  0.976918  NaN\n",
      "c1   3.0  0.696366  NaN\n",
      "d1   2.0  0.442415  NaN\n",
      "e1   1.0  0.096019  NaN\n",
      "f1   NaN  0.800762  NaN\n",
      "g1   NaN  0.809784  NaN\n",
      "a1   NaN       NaN  NaN\n",
      "    c1st       c2d\n",
      "b1   4.0  0.976918\n",
      "c1   3.0  0.696366\n",
      "d1   2.0  0.442415\n"
     ]
    }
   ],
   "source": [
    "print(my_df)\n",
    "print(my_df.loc[['b1', 'c1', 'd1'], ['c1st', 'c2d']])"
   ]
  },
  {
   "cell_type": "markdown",
   "id": "76541efb",
   "metadata": {},
   "source": [
    "## DataFrame modifaing"
   ]
  },
  {
   "cell_type": "code",
   "execution_count": 337,
   "id": "da9ddba3",
   "metadata": {},
   "outputs": [
    {
     "name": "stdout",
     "output_type": "stream",
     "text": [
      "   1st        2d   3d\n",
      "a  5.0  0.530278  NaN\n",
      "b  4.0  0.843843  NaN\n",
      "c  3.0  0.363362  NaN\n",
      "d  2.0  0.389286  NaN\n",
      "e  1.0  0.271182  NaN\n",
      "f  NaN  0.610230  NaN\n",
      "g  NaN  0.600468  NaN\n",
      "a  5.0  0.530278  NaN \n",
      "------------------------------------------------------------\n",
      "\n",
      "   1st        2d   3d  new_column\n",
      "a  5.0  0.530278  NaN           1\n",
      "b  4.0  0.843843  NaN           2\n",
      "c  3.0  0.363362  NaN           3\n",
      "d  2.0  0.389286  NaN           4\n",
      "e  1.0  0.271182  NaN           5\n",
      "f  NaN  0.610230  NaN           6\n",
      "g  NaN  0.600468  NaN           7\n",
      "a  5.0  0.530278  NaN           8 \n",
      "------------------------------------------------------------\n",
      "\n",
      "   1st        2d   3d  new_column  another_one\n",
      "a  5.0  0.530278  NaN           1          2.0\n",
      "b  4.0  0.843843  NaN           2          NaN\n",
      "c  3.0  0.363362  NaN           3          1.0\n",
      "d  2.0  0.389286  NaN           4          NaN\n",
      "e  1.0  0.271182  NaN           5          NaN\n",
      "f  NaN  0.610230  NaN           6          NaN\n",
      "g  NaN  0.600468  NaN           7          3.0\n",
      "a  5.0  0.530278  NaN           8          2.0\n",
      "   1st        2d   3d  new_column  another_one      summ\n",
      "a  5.0  0.530278  NaN           1          2.0  5.530278\n",
      "b  4.0  0.843843  NaN           2          NaN  4.843843\n",
      "c  3.0  0.363362  NaN           3          1.0  3.363362\n",
      "d  2.0  0.389286  NaN           4          NaN  2.389286\n",
      "e  1.0  0.271182  NaN           5          NaN  1.271182\n",
      "f  NaN  0.610230  NaN           6          NaN       NaN\n",
      "g  NaN  0.600468  NaN           7          3.0       NaN\n",
      "a  5.0  0.530278  NaN           8          2.0  5.530278\n"
     ]
    }
   ],
   "source": [
    "my_dict = {\n",
    "    '1st': pd.Series(np.arange(5, 0, -1), index='a b c d e'.split()),\n",
    "    '2d':  pd.Series(np.random.random(7), index='a b c d e f g'.split())\n",
    "}\n",
    "my_df = pd.DataFrame(my_dict, index='a b c d e f g a'.split(), columns=['1st', '2d', '3d'])\n",
    "print(my_df, sepa)\n",
    "my_df['new_column'] = [1, 2, 3, 4, 5, 6, 7, 8]\n",
    "print(my_df, sepa)\n",
    "my_df['another_one'] = pd.Series([1, 2, 3], index=['c', 'a', 'g'])\n",
    "print(my_df)\n",
    "my_df['summ'] = pd.Series(my_df['1st'] + my_df['2d'])\n",
    "print(my_df)"
   ]
  },
  {
   "cell_type": "markdown",
   "id": "1c8940ee",
   "metadata": {},
   "source": [
    "## Real DataSet"
   ]
  },
  {
   "cell_type": "code",
   "execution_count": 349,
   "id": "e247feed",
   "metadata": {},
   "outputs": [],
   "source": [
    "dataset_link = 'https://www.dropbox.com/s/lyzcuxu1pdrw5qb/titanic_data.csv?dl=1'\n",
    "pass_data = pd.read_csv(dataset_link, index_col='PassengerId')"
   ]
  },
  {
   "cell_type": "code",
   "execution_count": 352,
   "id": "a831835a",
   "metadata": {},
   "outputs": [
    {
     "name": "stdout",
     "output_type": "stream",
     "text": [
      "             Pclass                                               Name  \\\n",
      "PassengerId                                                              \n",
      "1                 3                            Braund, Mr. Owen Harris   \n",
      "2                 1  Cumings, Mrs. John Bradley (Florence Briggs Th...   \n",
      "3                 3                             Heikkinen, Miss. Laina   \n",
      "\n",
      "                Sex   Age  SibSp  Parch            Ticket     Fare Cabin  \\\n",
      "PassengerId                                                                \n",
      "1              male  22.0      1      0         A/5 21171   7.2500   NaN   \n",
      "2            female  38.0      1      0          PC 17599  71.2833   C85   \n",
      "3            female  26.0      0      0  STON/O2. 3101282   7.9250   NaN   \n",
      "\n",
      "            Embarked  \n",
      "PassengerId           \n",
      "1                  S  \n",
      "2                  C  \n",
      "3                  S  \n"
     ]
    }
   ],
   "source": [
    "print(pass_data[:3])"
   ]
  },
  {
   "cell_type": "code",
   "execution_count": 354,
   "id": "de0d08ee",
   "metadata": {},
   "outputs": [
    {
     "name": "stdout",
     "output_type": "stream",
     "text": [
      "             Pclass                                               Name  \\\n",
      "PassengerId                                                              \n",
      "1                 3                            Braund, Mr. Owen Harris   \n",
      "2                 1  Cumings, Mrs. John Bradley (Florence Briggs Th...   \n",
      "3                 3                             Heikkinen, Miss. Laina   \n",
      "\n",
      "                Sex   Age  SibSp  Parch            Ticket     Fare Cabin  \\\n",
      "PassengerId                                                                \n",
      "1              male  22.0      1      0         A/5 21171   7.2500   NaN   \n",
      "2            female  38.0      1      0          PC 17599  71.2833   C85   \n",
      "3            female  26.0      0      0  STON/O2. 3101282   7.9250   NaN   \n",
      "\n",
      "            Embarked  \n",
      "PassengerId           \n",
      "1                  S  \n",
      "2                  C  \n",
      "3                  S   \n",
      "------------------------------------------------------------\n",
      "\n"
     ]
    }
   ],
   "source": [
    "print(pass_data.head(3), sepa)"
   ]
  },
  {
   "cell_type": "code",
   "execution_count": 358,
   "id": "9beba874",
   "metadata": {},
   "outputs": [
    {
     "name": "stdout",
     "output_type": "stream",
     "text": [
      "(891, 10) \n",
      "------------------------------------------------------------\n",
      "\n",
      "<class 'pandas.core.frame.DataFrame'>\n",
      "Int64Index: 891 entries, 1 to 891\n",
      "Data columns (total 10 columns):\n",
      " #   Column    Non-Null Count  Dtype  \n",
      "---  ------    --------------  -----  \n",
      " 0   Pclass    891 non-null    int64  \n",
      " 1   Name      891 non-null    object \n",
      " 2   Sex       891 non-null    object \n",
      " 3   Age       714 non-null    float64\n",
      " 4   SibSp     891 non-null    int64  \n",
      " 5   Parch     891 non-null    int64  \n",
      " 6   Ticket    891 non-null    object \n",
      " 7   Fare      891 non-null    float64\n",
      " 8   Cabin     204 non-null    object \n",
      " 9   Embarked  889 non-null    object \n",
      "dtypes: float64(2), int64(3), object(5)\n",
      "memory usage: 76.6+ KB\n",
      "None\n"
     ]
    }
   ],
   "source": [
    "print(pass_data.shape, sepa)\n",
    "print(pass_data.info())"
   ]
  },
  {
   "cell_type": "code",
   "execution_count": 373,
   "id": "ae6ffed9",
   "metadata": {},
   "outputs": [
    {
     "name": "stdout",
     "output_type": "stream",
     "text": [
      "           Pclass         Age       SibSp       Parch        Fare\n",
      "count  891.000000  714.000000  891.000000  891.000000  891.000000\n",
      "mean     2.308642   29.699118    0.523008    0.381594   32.204208\n",
      "std      0.836071   14.526497    1.102743    0.806057   49.693429\n",
      "min      1.000000    0.420000    0.000000    0.000000    0.000000\n",
      "25%      2.000000   20.125000    0.000000    0.000000    7.910400\n",
      "50%      3.000000   28.000000    0.000000    0.000000   14.454200\n",
      "75%      3.000000   38.000000    1.000000    0.000000   31.000000\n",
      "max      3.000000   80.000000    8.000000    6.000000  512.329200 \n",
      "--------------------------------------------------------------------------------\n",
      "\n",
      "mean ticket price = 32.2042079685746\n",
      "median ticket price = 14.4542 \n",
      "--------------------------------------------------------------------------------\n",
      "\n",
      "CPU times: user 46 ms, sys: 4.24 ms, total: 50.2 ms\n",
      "Wall time: 48.4 ms\n"
     ]
    }
   ],
   "source": [
    "%%time\n",
    "print(pass_data.describe(), sepa)\n",
    "print('mean ticket price =', pass_data.describe()['Fare']['mean'])\n",
    "print('median ticket price =', pass_data.describe()['Fare']['50%'], sepa)\n"
   ]
  },
  {
   "cell_type": "code",
   "execution_count": 393,
   "id": "6235e1ea",
   "metadata": {},
   "outputs": [
    {
     "name": "stdout",
     "output_type": "stream",
     "text": [
      "<class 'pandas.core.frame.DataFrame'>\n",
      "Int64Index: 891 entries, 1 to 891\n",
      "Data columns (total 10 columns):\n",
      " #   Column    Non-Null Count  Dtype  \n",
      "---  ------    --------------  -----  \n",
      " 0   Pclass    891 non-null    int64  \n",
      " 1   Name      891 non-null    object \n",
      " 2   Sex       891 non-null    object \n",
      " 3   Age       714 non-null    float64\n",
      " 4   SibSp     891 non-null    int64  \n",
      " 5   Parch     891 non-null    int64  \n",
      " 6   Ticket    891 non-null    object \n",
      " 7   Fare      891 non-null    float64\n",
      " 8   Cabin     204 non-null    object \n",
      " 9   Embarked  889 non-null    object \n",
      "dtypes: float64(2), int64(3), object(5)\n",
      "memory usage: 76.6+ KB\n",
      "None \n",
      "--------------------------------------------------------------------------------\n",
      "\n",
      "min_age=0.42, max_age=80.0, mean_age=29.69911764705882\n",
      "0.42 80.0 29.69911764705882\n"
     ]
    }
   ],
   "source": [
    "print(pass_data.info(), sepa)\n",
    "\n",
    "min_age = np.min(pass_data['Age'])\n",
    "mean_age = np.mean(pass_data['Age'])\n",
    "max_age = np.max(pass_data['Age'])\n",
    "\n",
    "min_age = pass_data['Age'].min()\n",
    "mean_age = pass_data['Age'].mean()\n",
    "max_age = pass_data['Age'].max()\n",
    "\n",
    "\n",
    "print(f'{min_age=}, {max_age=}, {mean_age=}')\n",
    "pass_stats = pass_data.describe()\n",
    "print(pass_stats['Age']['min'], pass_stats['Age']['max'], pass_stats['Age']['mean'])"
   ]
  },
  {
   "cell_type": "markdown",
   "id": "36658df6",
   "metadata": {},
   "source": [
    "## pd_data_frame.value_counts()"
   ]
  },
  {
   "cell_type": "code",
   "execution_count": 412,
   "id": "be8b10a6",
   "metadata": {},
   "outputs": [
    {
     "name": "stdout",
     "output_type": "stream",
     "text": [
      "\n",
      "Female Num = 314 (35.24130190796858 %)\n",
      "Male Num = 577 (64.75869809203144 %) \n",
      "--------------------------------------------------------------------------------\n",
      "\n",
      "male      64.758698\n",
      "female    35.241302\n",
      "Name: Sex, dtype: float64 \n",
      "--------------------------------------------------------------------------------\n",
      "\n",
      "Pclass\n",
      "3    55.106622\n",
      "1    24.242424\n",
      "2    20.650954\n",
      "dtype: float64 \n",
      "--------------------------------------------------------------------------------\n",
      "\n"
     ]
    }
   ],
   "source": [
    "female_num = len(pass_data[pass_data['Sex'] == 'female'])\n",
    "male_num = len(pass_data[pass_data['Sex'] == 'male'])\n",
    "\n",
    "\n",
    "print(f'''\n",
    "Female Num = {female_num} ({female_num/(female_num + male_num) * 100} %)\n",
    "Male Num = {male_num} ({male_num/(female_num + male_num) * 100} %)''', sepa)\n",
    "\n",
    "male_female = pass_data.value_counts('Sex') \n",
    "male_female = pass_data['Sex'].value_counts()  # equal usage\n",
    "male_female_percentage = male_female / male_female.sum() * 100\n",
    "print(male_female_percentage, sepa)\n",
    "\n",
    "class_distr = pass_data.value_counts('Pclass')\n",
    "class_distr_percentage = class_distr / class_distr.sum() * 100\n",
    "print(class_distr_percentage, sepa)"
   ]
  },
  {
   "cell_type": "markdown",
   "id": "7a9fa9dd",
   "metadata": {},
   "source": [
    "### goupby"
   ]
  },
  {
   "cell_type": "code",
   "execution_count": 443,
   "id": "fd4cce8d",
   "metadata": {},
   "outputs": [
    {
     "name": "stdout",
     "output_type": "stream",
     "text": [
      "        count       mean        std   min   25%   50%   75%   max\n",
      "Pclass                                                           \n",
      "1       186.0  38.233441  14.802856  0.92  27.0  37.0  49.0  80.0\n",
      "2       173.0  29.877630  14.001077  0.67  23.0  29.0  36.0  70.0\n",
      "3       355.0  25.140620  12.495398  0.42  18.0  24.0  32.0  74.0 \n",
      "--------------------------------------------------------------------------------\n",
      "\n",
      "Pclass\n",
      "1    38.233441\n",
      "2    29.877630\n",
      "3    25.140620\n",
      "Name: Age, dtype: float64 \n",
      "--------------------------------------------------------------------------------\n",
      "\n",
      "Pclass\n",
      "1    38.233441\n",
      "2    29.877630\n",
      "3    25.140620\n",
      "Name: Age, dtype: float64 \n",
      "--------------------------------------------------------------------------------\n",
      "\n"
     ]
    }
   ],
   "source": [
    "group_stats = pass_data.groupby('Pclass').describe()\n",
    "# print(group_stats, sepa)\n",
    "print(group_stats['Age'], sepa)\n",
    "print(pass_data.groupby('Pclass')['Age'].mean(), sepa)\n",
    "print(pass_data.groupby('Pclass').mean()['Age'], sepa)"
   ]
  },
  {
   "cell_type": "markdown",
   "id": "9d94ce2f",
   "metadata": {},
   "source": [
    "## Join"
   ]
  },
  {
   "cell_type": "code",
   "execution_count": 448,
   "id": "2e59d819",
   "metadata": {},
   "outputs": [],
   "source": [
    "surv_data = pd.read_csv('https://www.dropbox.com/s/v35x9i6a1tc7emm/titanic_surv.csv?dl=1')\n",
    "pass_data = pd.read_csv('https://www.dropbox.com/s/lyzcuxu1pdrw5qb/titanic_data.csv?dl=1')"
   ]
  },
  {
   "cell_type": "code",
   "execution_count": 575,
   "id": "19961a95",
   "metadata": {},
   "outputs": [
    {
     "name": "stdout",
     "output_type": "stream",
     "text": [
      "     Survived\n",
      "609         1\n",
      "495         0\n",
      "528         0\n",
      "110         0\n",
      "711         0 \n",
      "--------------------------------------------------------------------------------\n",
      "\n",
      "             Survived     Sex   Age  SibSp     Fare\n",
      "PassengerId                                        \n",
      "1                   0    male  22.0      1   7.2500\n",
      "2                   1  female  38.0      1  71.2833\n",
      "3                   1  female  26.0      0   7.9250\n",
      "4                   1  female  35.0      1  53.1000\n",
      "5                   0    male  35.0      0   8.0500\n"
     ]
    }
   ],
   "source": [
    "surv_data = surv_data.sample(frac=1)\n",
    "print(surv_data.head(), sepa)\n",
    "joined_data = surv_data.join(pass_data.iloc[::, [3, 4, 5, 8]]).sort_index()\n",
    "joined_data.index = pass_data['PassengerId']\n",
    "print(joined_data.head())"
   ]
  },
  {
   "cell_type": "code",
   "execution_count": 576,
   "id": "76eb0197",
   "metadata": {},
   "outputs": [
    {
     "name": "stdout",
     "output_type": "stream",
     "text": [
      "Survived\n",
      "1    233\n",
      "0     81\n",
      "dtype: int64 female \n",
      "--------------------------------------------------------------------------------\n",
      "\n",
      "Survived\n",
      "0    468\n",
      "1    109\n",
      "dtype: int64 male \n",
      "--------------------------------------------------------------------------------\n",
      "\n",
      "Survived\n",
      "0    549\n",
      "1    342\n",
      "dtype: int64 all \n",
      "--------------------------------------------------------------------------------\n",
      "\n",
      "\n",
      "Survived: 342 people, 38%\n",
      "Female survived: 233, 26% by all, 74% winrate\n",
      "Male survived: 109, 12% by all, 19% winrate\n",
      " \n",
      "--------------------------------------------------------------------------------\n",
      "\n"
     ]
    }
   ],
   "source": [
    "all_survived = joined_data.value_counts('Survived')\n",
    "female_survived = joined_data[joined_data['Sex'] == 'female'].value_counts('Survived')\n",
    "male_survived = joined_data[joined_data['Sex'] == 'male'].value_counts('Survived')\n",
    "\n",
    "print(female_survived, 'female', sepa)\n",
    "print(male_survived, 'male', sepa)\n",
    "print(all_survived, 'all', sepa)\n",
    "\n",
    "print(f'''\n",
    "Survived: {all_survived[1]} people, {all_survived[1]/all_survived.sum()*100:2.0f}%\n",
    "Female survived: {female_survived[1]}, {female_survived[1]/all_survived.sum()*100:2.0f}% by all, {female_survived[1]/female_survived.sum()*100:2.0f}% winrate\n",
    "Male survived: {male_survived[1]}, {male_survived[1]/all_survived.sum()*100:2.0f}% by all, {male_survived[1]/male_survived.sum()*100:2.0f}% winrate\n",
    "''', sepa\n",
    ")"
   ]
  },
  {
   "cell_type": "code",
   "execution_count": 577,
   "id": "3e563be8",
   "metadata": {},
   "outputs": [
    {
     "name": "stdout",
     "output_type": "stream",
     "text": [
      "Sex\n",
      "female    233\n",
      "male      109\n",
      "Name: Survived, dtype: int64 \n",
      "--------------------------------------------------------------------------------\n",
      "\n",
      "Sex\n",
      "female    233\n",
      "male      109\n",
      "Name: Survived, dtype: int64 \n",
      "--------------------------------------------------------------------------------\n",
      "\n"
     ]
    }
   ],
   "source": [
    "surv_roup = joined_data.groupby('Sex')['Survived']\n",
    "print(surv_roup.sum(), sepa)\n",
    "surv_roup = joined_data[joined_data['Survived'] == 1].groupby('Sex')['Survived']\n",
    "print(surv_roup.count(), sepa)"
   ]
  },
  {
   "cell_type": "markdown",
   "id": "5285c40a",
   "metadata": {},
   "source": [
    "## corr matrix"
   ]
  },
  {
   "cell_type": "code",
   "execution_count": 578,
   "id": "3bc2a466",
   "metadata": {},
   "outputs": [
    {
     "name": "stdout",
     "output_type": "stream",
     "text": [
      "             Survived     Sex   Age  SibSp     Fare\n",
      "PassengerId                                        \n",
      "1                   0    male  22.0      1   7.2500\n",
      "2                   1  female  38.0      1  71.2833\n",
      "3                   1  female  26.0      0   7.9250\n",
      "4                   1  female  35.0      1  53.1000\n",
      "5                   0    male  35.0      0   8.0500\n",
      "             Survived  Sex   Age  SibSp     Fare\n",
      "PassengerId                                     \n",
      "1                   0    0  22.0      1   7.2500\n",
      "2                   1    1  38.0      1  71.2833\n",
      "3                   1    1  26.0      0   7.9250\n",
      "4                   1    1  35.0      1  53.1000\n",
      "5                   0    0  35.0      0   8.0500\n"
     ]
    }
   ],
   "source": [
    "print(joined_data.head())\n",
    "joined_data['Sex'] =  (joined_data['Sex'] == 'female').astype(int)\n",
    "print(joined_data.head())"
   ]
  },
  {
   "cell_type": "code",
   "execution_count": 580,
   "id": "3f9792fe",
   "metadata": {},
   "outputs": [
    {
     "name": "stdout",
     "output_type": "stream",
     "text": [
      "          Survived       Sex       Age     SibSp      Fare\n",
      "Survived  1.000000  0.543351 -0.077221 -0.035322  0.257307\n",
      "Sex       0.543351  1.000000 -0.093254  0.114631  0.182333\n",
      "Age      -0.077221 -0.093254  1.000000 -0.308247  0.096067\n",
      "SibSp    -0.035322  0.114631 -0.308247  1.000000  0.159651\n",
      "Fare      0.257307  0.182333  0.096067  0.159651  1.000000\n"
     ]
    }
   ],
   "source": [
    "print(joined_data.corr())"
   ]
  },
  {
   "cell_type": "code",
   "execution_count": 583,
   "id": "a2f4dbe2",
   "metadata": {},
   "outputs": [],
   "source": [
    "import seaborn as sns"
   ]
  },
  {
   "cell_type": "code",
   "execution_count": 585,
   "id": "18bec4e2",
   "metadata": {},
   "outputs": [
    {
     "data": {
      "text/html": [
       "<div>\n",
       "<style scoped>\n",
       "    .dataframe tbody tr th:only-of-type {\n",
       "        vertical-align: middle;\n",
       "    }\n",
       "\n",
       "    .dataframe tbody tr th {\n",
       "        vertical-align: top;\n",
       "    }\n",
       "\n",
       "    .dataframe thead th {\n",
       "        text-align: right;\n",
       "    }\n",
       "</style>\n",
       "<table border=\"1\" class=\"dataframe\">\n",
       "  <thead>\n",
       "    <tr style=\"text-align: right;\">\n",
       "      <th></th>\n",
       "      <th>Survived</th>\n",
       "      <th>Sex</th>\n",
       "    </tr>\n",
       "  </thead>\n",
       "  <tbody>\n",
       "    <tr>\n",
       "      <th>Survived</th>\n",
       "      <td>1.000000</td>\n",
       "      <td>0.543351</td>\n",
       "    </tr>\n",
       "    <tr>\n",
       "      <th>Sex</th>\n",
       "      <td>0.543351</td>\n",
       "      <td>1.000000</td>\n",
       "    </tr>\n",
       "  </tbody>\n",
       "</table>\n",
       "</div>"
      ],
      "text/plain": [
       "          Survived       Sex\n",
       "Survived  1.000000  0.543351\n",
       "Sex       0.543351  1.000000"
      ]
     },
     "execution_count": 585,
     "metadata": {},
     "output_type": "execute_result"
    }
   ],
   "source": [
    "joined_data[['Survived', 'Sex']].corr()"
   ]
  },
  {
   "cell_type": "code",
   "execution_count": 595,
   "id": "263bba8d",
   "metadata": {},
   "outputs": [
    {
     "data": {
      "text/plain": [
       "<AxesSubplot:>"
      ]
     },
     "execution_count": 595,
     "metadata": {},
     "output_type": "execute_result"
    },
    {
     "data": {
      "image/png": "[encoded data removed]",
      "text/plain": [
       "<Figure size 432x288 with 2 Axes>"
      ]
     },
     "metadata": {
      "needs_background": "light"
     },
     "output_type": "display_data"
    }
   ],
   "source": [
    "sns.heatmap(joined_data[['Survived', 'Sex', 'Age', 'Fare']].corr(),\n",
    "            annot=True,\n",
    "            cmap='coolwarm',\n",
    "            vmin=-1, vmax=1,\n",
    "            annot_kws={'size': 14}\n",
    "           )"
   ]
  }
 ],
 "metadata": {
  "kernelspec": {
   "display_name": "Python 3",
   "language": "python",
   "name": "python3"
  },
  "language_info": {
   "codemirror_mode": {
    "name": "ipython",
    "version": 3
   },
   "file_extension": ".py",
   "mimetype": "text/x-python",
   "name": "python",
   "nbconvert_exporter": "python",
   "pygments_lexer": "ipython3",
   "version": "3.8.8"
  }
 },
 "nbformat": 4,
 "nbformat_minor": 5
}
