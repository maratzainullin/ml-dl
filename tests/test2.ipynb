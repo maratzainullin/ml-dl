{
 "cells": [
  {
   "cell_type": "code",
   "execution_count": 1,
   "metadata": {},
   "outputs": [
    {
     "data": {
      "text/plain": [
       "(1, 4, 5, 12.4, 'sagg')"
      ]
     },
     "execution_count": 1,
     "metadata": {},
     "output_type": "execute_result"
    }
   ],
   "source": [
    "a = (1, 4, 5, 12.4, 'sagg')\n",
    "a"
   ]
  },
  {
   "cell_type": "code",
   "execution_count": 2,
   "metadata": {},
   "outputs": [
    {
     "data": {
      "text/plain": [
       "4"
      ]
     },
     "execution_count": 2,
     "metadata": {},
     "output_type": "execute_result"
    }
   ],
   "source": [
    "a[1]"
   ]
  },
  {
   "cell_type": "code",
   "execution_count": 3,
   "metadata": {},
   "outputs": [
    {
     "ename": "TypeError",
     "evalue": "'tuple' object does not support item assignment",
     "output_type": "error",
     "traceback": [
      "\u001b[1;31m---------------------------------------------------------------------------\u001b[0m",
      "\u001b[1;31mTypeError\u001b[0m                                 Traceback (most recent call last)",
      "\u001b[1;32m<ipython-input-3-6a3574d929fd>\u001b[0m in \u001b[0;36m<module>\u001b[1;34m\u001b[0m\n\u001b[1;32m----> 1\u001b[1;33m \u001b[0ma\u001b[0m\u001b[1;33m[\u001b[0m\u001b[1;36m1\u001b[0m\u001b[1;33m]\u001b[0m \u001b[1;33m=\u001b[0m \u001b[1;36m2\u001b[0m\u001b[1;33m\u001b[0m\u001b[1;33m\u001b[0m\u001b[0m\n\u001b[0m\u001b[0;32m      2\u001b[0m \u001b[0ma\u001b[0m\u001b[1;33m\u001b[0m\u001b[1;33m\u001b[0m\u001b[0m\n",
      "\u001b[1;31mTypeError\u001b[0m: 'tuple' object does not support item assignment"
     ]
    }
   ],
   "source": [
    "a[1] = 2\n",
    "a"
   ]
  },
  {
   "cell_type": "code",
   "execution_count": 11,
   "metadata": {},
   "outputs": [
    {
     "name": "stdout",
     "output_type": "stream",
     "text": [
      "range(1, 10)\n",
      "<range_iterator object at 0x00000000059D3250>\n",
      "1\n",
      "2\n",
      "3\n",
      "4\n",
      "<list_iterator object at 0x0000000005CAC320>\n",
      "he\n",
      "hehe\n",
      "nothe\n",
      "nothehe\n"
     ]
    }
   ],
   "source": [
    "a = range(1, 10)\n",
    "print(a)\n",
    "\n",
    "b = iter(a)\n",
    "print(b)\n",
    "\n",
    "print(next(b))\n",
    "print(next(b))\n",
    "print(next(b))\n",
    "print(next(b))\n",
    "\n"
   ]
  },
  {
   "cell_type": "code",
   "execution_count": 12,
   "metadata": {},
   "outputs": [
    {
     "name": "stdout",
     "output_type": "stream",
     "text": [
      "<list_iterator object at 0x0000000005CACB70>\n",
      "he\n",
      "hehe\n",
      "nothe\n",
      "nothehe\n"
     ]
    }
   ],
   "source": [
    "b = iter(['he', 'hehe', 'nothe', 'nothehe'])\n",
    "print(b)\n",
    "\n",
    "print(next(b))\n",
    "print(next(b))\n",
    "print(next(b))\n",
    "print(next(b))"
   ]
  },
  {
   "cell_type": "code",
   "execution_count": 26,
   "metadata": {},
   "outputs": [
    {
     "name": "stdout",
     "output_type": "stream",
     "text": [
      "['he', 'hehe', 'nothe', 'nothehe']\n",
      "['nothehe', 'nothe', 'hehe', 'he']\n",
      "['nothehe', 'nothe', 'hehe', 'he']\n",
      "[4, 3, 2, 1]\n",
      "[0, 1, 2, 3]\n"
     ]
    }
   ],
   "source": [
    "hehe = ['he', 'hehe', 'nothe', 'nothehe']\n",
    "print(hehe)\n",
    "ainthehe = hehe[len(hehe)::-1]\n",
    "print(ainthehe)\n",
    "ainthehe = hehe[::-1]\n",
    "print(ainthehe)\n",
    "\n",
    "list1 = [1, 2, 3, 4]\n",
    "list2 = list(range(len(list1),0,-1))\n",
    "list3 = list(range(0, len(list1)))\n",
    "print(list2)\n",
    "print(list3)"
   ]
  },
  {
   "cell_type": "code",
   "execution_count": 28,
   "metadata": {},
   "outputs": [
    {
     "name": "stdout",
     "output_type": "stream",
     "text": [
      "he catto hehe catto nothe catto nothehe\n"
     ]
    }
   ],
   "source": [
    "catto_hehe = ' catto '.join(hehe)\n",
    "print(catto_hehe)"
   ]
  },
  {
   "cell_type": "code",
   "execution_count": 30,
   "metadata": {},
   "outputs": [
    {
     "name": "stdout",
     "output_type": "stream",
     "text": [
      "['he', 'catto', 'hehe', 'catto', 'nothe', 'catto', 'nothehe']\n",
      "['he', 'hehe', 'catto', 'catto', 'nothe', 'catto', 'nothehe']\n"
     ]
    }
   ],
   "source": [
    "catto_hehe_splitted = catto_hehe.split()\n",
    "print(catto_hehe_splitted)\n",
    "print(sorted(catto_hehe_splitted, key=lambda x: len(x)))\n"
   ]
  },
  {
   "cell_type": "code",
   "execution_count": 35,
   "metadata": {},
   "outputs": [
    {
     "name": "stdout",
     "output_type": "stream",
     "text": [
      "['he', 'catto', 'hehe', 'catto', 'nothe', 'catto', 'nothehe'] 103446856\n",
      "['he', 'catto', 'hehe', 'catto', 'nothe', 'catto', 'nothehe', 1, 2, 3, 10] 103446856\n"
     ]
    }
   ],
   "source": [
    "catto_hehe_splitted = catto_hehe.split()\n",
    "print(catto_hehe_splitted, id(catto_hehe_splitted))\n",
    "catto_hehe_splitted += [1, 2, 3, 10]\n",
    "print(catto_hehe_splitted, id(catto_hehe_splitted))"
   ]
  },
  {
   "cell_type": "code",
   "execution_count": 36,
   "metadata": {},
   "outputs": [
    {
     "name": "stdout",
     "output_type": "stream",
     "text": [
      "['he', 'catto', 'hehe', 'catto', 'nothe', 'catto', 'nothehe'] 102876360\n",
      "['he', 'catto', 'hehe', 'catto', 'nothe', 'catto', 'nothehe', 1, 2, 3, 10] 102876360\n"
     ]
    }
   ],
   "source": [
    "\n",
    "catto_hehe_splitted = catto_hehe.split()\n",
    "print(catto_hehe_splitted, id(catto_hehe_splitted))\n",
    "catto_hehe_splitted.extend([1, 2, 3, 10])\n",
    "print(catto_hehe_splitted, id(catto_hehe_splitted))"
   ]
  },
  {
   "cell_type": "code",
   "execution_count": 48,
   "metadata": {},
   "outputs": [
    {
     "name": "stdout",
     "output_type": "stream",
     "text": [
      "['he:2', 'catto:5', 'hehe:4', 'catto:5', 'nothe:5', 'catto:5', 'nothehe:7', 1, 2, 3, 10]\n"
     ]
    }
   ],
   "source": [
    "print(list(map(lambda x: f'{x}:{len(x)}' if type(x) is str else x, catto_hehe_splitted)))"
   ]
  },
  {
   "cell_type": "code",
   "execution_count": 50,
   "metadata": {},
   "outputs": [
    {
     "name": "stdout",
     "output_type": "stream",
     "text": [
      "[1, 'he', 2, 3, 'hehe', 'catto', 'catto', 'nothe', 'catto', 'nothehe', 10]\n"
     ]
    }
   ],
   "source": [
    "print(sorted(catto_hehe_splitted, key=lambda x: len(x) if type(x) is str else x))"
   ]
  },
  {
   "cell_type": "code",
   "execution_count": 51,
   "metadata": {},
   "outputs": [
    {
     "name": "stdout",
     "output_type": "stream",
     "text": [
      "3\n"
     ]
    }
   ],
   "source": [
    "catto_sorted_wierd = sorted(catto_hehe_splitted, key=lambda x: len(x) if type(x) is str else x)\n",
    "print(catto_sorted_wierd.count('catto'))"
   ]
  },
  {
   "cell_type": "code",
   "execution_count": 59,
   "metadata": {},
   "outputs": [
    {
     "name": "stdout",
     "output_type": "stream",
     "text": [
      "9\n",
      "Not in list 0\n"
     ]
    }
   ],
   "source": [
    "print(catto_sorted_wierd.index('nothehe'))\n",
    "a = catto_sorted_wierd.index('meow') if 'meow' in catto_sorted_wierd else 'Not in list'\n",
    "print(a, catto_sorted_wierd.count('meow'))"
   ]
  },
  {
   "cell_type": "code",
   "execution_count": 74,
   "metadata": {},
   "outputs": [
    {
     "name": "stdout",
     "output_type": "stream",
     "text": [
      "['he', 'catto', 'hehe', 'catto', 'nothe', 'catto', 'nothehe', 1, 2, 3, 10]\n",
      "[(0, 'he'), (1, 'catto'), (2, 'hehe'), (3, 'catto'), (4, 'nothe'), (5, 'catto'), (6, 'nothehe'), (7, 1), (8, 2), (9, 3), (10, 10)]\n",
      "[(0, 'he'), (1, 'catto'), (2, 'hehe'), (3, 'catto'), (4, 'nothe'), (5, 'catto'), (6, 'nothehe'), (7, 1), (8, 2), (9, 3), (10, 10)]\n"
     ]
    }
   ],
   "source": [
    "print(catto_hehe_splitted)\n",
    "enum = enumerate(catto_hehe_splitted)\n",
    "a = zip(range(0, len(catto_hehe_splitted)), catto_hehe_splitted)\n",
    "print(list(a))\n",
    "print(list(enum))\n"
   ]
  },
  {
   "cell_type": "code",
   "execution_count": 88,
   "metadata": {},
   "outputs": [
    {
     "data": {
      "text/plain": [
       "['0(^_^)',\n",
       " '1(>_<)',\n",
       " '2(^_^)',\n",
       " '3(>_<)',\n",
       " '4(^_^)',\n",
       " '5(>_<)',\n",
       " '6(^_^)',\n",
       " '7(>_<)',\n",
       " '8(^_^)',\n",
       " '9(>_<)']"
      ]
     },
     "execution_count": 88,
     "metadata": {},
     "output_type": "execute_result"
    }
   ],
   "source": [
    "catto = [f'{x}(>_<)' if x%2 else f'{x}(^_^)' for x in range(10)]\n",
    "catto"
   ]
  },
  {
   "cell_type": "code",
   "execution_count": 105,
   "metadata": {},
   "outputs": [
    {
     "name": "stdout",
     "output_type": "stream",
     "text": [
      "0, 1, 2, 3, 4, 5, 6, 7, 8, 9, 10, 11, 12, 13, 14, 15, 16, 17, 18, 19, 20, 21, 22, 23, 24, 25, 26, 27, 28, 29, 30, 31, 32, 33, 34, 35, 36, 37, 38, 39, 40, 41, 42, 43, 44, 45, 46, 47, 48, 49, 50, 51, 52, 53, 54, 55, 56, 57, 58, 59, 60, 61, 62, 63, 64, 65, 66, 67, 68, 69, 70, 71, 72, 73, 74, 75, 76, 77, 78, 79, 80, 81, 82, 83, 84, 85, 86, 87, 88, 89, 90, 91, 92, 93, 94, 95, 96, 97, 98, 99\n"
     ]
    },
    {
     "data": {
      "text/plain": [
       "'0, 1, 2, 3, 4, 5, 6, 7, 8, 9, 10, 11, 12, 13, 14, 15, 16, 17, 18, 19, 20, 21, 22, 23, 24, 25, 26, 27, 28, 29, 30, 31, 32, 33, 34, 35, 36, 37, 38, 39, 40, 41, 42, 43, 44, 45, 46, 47, 48, 49, 50, 51, 52, 53, 54, 55, 56, 57, 58, 59, 60, 61, 62, 63, 64, 65, 66, 67, 68, 69, 70, 71, 72, 73, 74, 75, 76, 77, 78, 79, 80, 81, 82, 83, 84, 85, 86, 87, 88, 89, 90, 91, 92, 93, 94, 95, 96, 97, 98, 99'"
      ]
     },
     "execution_count": 105,
     "metadata": {},
     "output_type": "execute_result"
    }
   ],
   "source": [
    "a = [x for x in range(100)]\n",
    "print(*a, sep=', ')\n",
    "', '.join(map(str, a))\n"
   ]
  },
  {
   "cell_type": "code",
   "execution_count": null,
   "metadata": {},
   "outputs": [],
   "source": []
  }
 ],
 "metadata": {
  "kernelspec": {
   "display_name": "Python 3",
   "language": "python",
   "name": "python3"
  },
  "language_info": {
   "codemirror_mode": {
    "name": "ipython",
    "version": 3
   },
   "file_extension": ".py",
   "mimetype": "text/x-python",
   "name": "python",
   "nbconvert_exporter": "python",
   "pygments_lexer": "ipython3",
   "version": "3.9.12"
  }
 },
 "nbformat": 4,
 "nbformat_minor": 4
}
